{
 "cells": [
  {
   "cell_type": "markdown",
   "id": "b1d62bb1",
   "metadata": {},
   "source": [
    "# 정적 크롤링: BeautifulSoup\n"
   ]
  },
  {
   "cell_type": "markdown",
   "id": "6b4ed949",
   "metadata": {},
   "source": [
    "` uv add beautifulsoup4 `"
   ]
  },
  {
   "cell_type": "markdown",
   "id": "1bc3531f",
   "metadata": {},
   "source": [
    "## 1) HTML 파싱 준비"
   ]
  },
  {
   "cell_type": "code",
   "execution_count": 1,
   "id": "2c07df72",
   "metadata": {},
   "outputs": [],
   "source": [
    "html = \"\"\"\n",
    "<html>\n",
    "  <body>\n",
    "    <div id=\"main\" class=\"content\">\n",
    "      <h1>첫 번째 헤더</h1>\n",
    "      <h1 class=\"header\">두 번째 헤더</h1>\n",
    "      <p class=\"description\">설명입니다.</p>\n",
    "      <a href=\"https://example1.com\" class=\"link\">링크 1</a>\n",
    "      <a href=\"https://example2.com\" class=\"link\">링크 2</a>\n",
    "      <a href=\"https://example3.com\" class=\"external\">링크 3</a>\n",
    "    </div>\n",
    "    <div id=\"main2\" class=\"content\">\n",
    "      <div class=\"items\">\n",
    "        <div>\n",
    "            <img class=\"thumbnail\" src=\"/data/picture1.png\" />\n",
    "            <div class=\"title\">타이틀1</div>\n",
    "            <div class=\"description\">설명1</div>\n",
    "        </div>\n",
    "        <div>\n",
    "            <img class=\"thumbnail\" src=\"/data/picture2.png\" />\n",
    "            <div class=\"title\">타이틀2</div>\n",
    "            <div class=\"description\">설명2</div>\n",
    "        </div>\n",
    "        <div>\n",
    "            <img class=\"thumbnail\" src=\"/data/picture3.png\" />\n",
    "            <div class=\"title test\">타이틀3</div>\n",
    "            <div class=\"description\">설명3</div>\n",
    "        </div>\n",
    "      </div>\n",
    "    </div>\n",
    "  </body>\n",
    "</html>\n",
    "\"\"\""
   ]
  },
  {
   "cell_type": "code",
   "execution_count": 2,
   "id": "a49f3ded",
   "metadata": {},
   "outputs": [
    {
     "name": "stdout",
     "output_type": "stream",
     "text": [
      "\n",
      "<html>\n",
      "<body>\n",
      "<div class=\"content\" id=\"main\">\n",
      "<h1>첫 번째 헤더</h1>\n",
      "<h1 class=\"header\">두 번째 헤더</h1>\n",
      "<p class=\"description\">설명입니다.</p>\n",
      "<a class=\"link\" href=\"https://example1.com\">링크 1</a>\n",
      "<a class=\"link\" href=\"https://example2.com\">링크 2</a>\n",
      "<a class=\"external\" href=\"https://example3.com\">링크 3</a>\n",
      "</div>\n",
      "<div class=\"content\" id=\"main2\">\n",
      "<div class=\"items\">\n",
      "<div>\n",
      "<img class=\"thumbnail\" src=\"/data/picture1.png\"/>\n",
      "<div class=\"title\">타이틀1</div>\n",
      "<div class=\"description\">설명1</div>\n",
      "</div>\n",
      "<div>\n",
      "<img class=\"thumbnail\" src=\"/data/picture2.png\"/>\n",
      "<div class=\"title\">타이틀2</div>\n",
      "<div class=\"description\">설명2</div>\n",
      "</div>\n",
      "<div>\n",
      "<img class=\"thumbnail\" src=\"/data/picture3.png\"/>\n",
      "<div class=\"title test\">타이틀3</div>\n",
      "<div class=\"description\">설명3</div>\n",
      "</div>\n",
      "</div>\n",
      "</div>\n",
      "</body>\n",
      "</html>\n",
      "\n"
     ]
    }
   ],
   "source": [
    "from bs4 import BeautifulSoup\n",
    "soup = BeautifulSoup(html, \"html.parser\")\n",
    "print(soup)"
   ]
  },
  {
   "cell_type": "markdown",
   "id": "cd9cdec4",
   "metadata": {},
   "source": [
    "# 2) 파싱\n",
    "\n",
    "`soup.find('태그명', class_, id)`"
   ]
  },
  {
   "cell_type": "code",
   "execution_count": 3,
   "id": "ac13da45",
   "metadata": {},
   "outputs": [
    {
     "data": {
      "text/plain": [
       "<div class=\"title\">타이틀1</div>"
      ]
     },
     "execution_count": 3,
     "metadata": {},
     "output_type": "execute_result"
    }
   ],
   "source": [
    "# 맨 처음 나오는 class 이름이 title인 div를 추출해주세요\n",
    "soup.find(\"div\", class_=\"title\")"
   ]
  },
  {
   "cell_type": "code",
   "execution_count": 4,
   "id": "144d9add",
   "metadata": {},
   "outputs": [
    {
     "data": {
      "text/plain": [
       "[<div class=\"title\">타이틀1</div>,\n",
       " <div class=\"title\">타이틀2</div>,\n",
       " <div class=\"title test\">타이틀3</div>]"
      ]
     },
     "execution_count": 4,
     "metadata": {},
     "output_type": "execute_result"
    }
   ],
   "source": [
    "soup.find_all(\"div\", class_=\"title\")"
   ]
  },
  {
   "cell_type": "code",
   "execution_count": 6,
   "id": "f153456a",
   "metadata": {},
   "outputs": [
    {
     "name": "stdout",
     "output_type": "stream",
     "text": [
      "타이틀1\n",
      "타이틀2\n",
      "타이틀3\n"
     ]
    }
   ],
   "source": [
    "outputs = soup.find_all(\"div\", class_=\"title\")\n",
    "\n",
    "for out in outputs:\n",
    "    print(out.text)"
   ]
  },
  {
   "cell_type": "code",
   "execution_count": 9,
   "id": "b02eefa7",
   "metadata": {},
   "outputs": [],
   "source": [
    "outputs = soup.find_all(\"div\", class_=\"description\")"
   ]
  },
  {
   "cell_type": "code",
   "execution_count": 10,
   "id": "945c9fbe",
   "metadata": {},
   "outputs": [
    {
     "name": "stdout",
     "output_type": "stream",
     "text": [
      "설명1\n",
      "설명2\n",
      "설명3\n"
     ]
    }
   ],
   "source": [
    "for out in outputs:\n",
    "    print(out.text)"
   ]
  },
  {
   "cell_type": "code",
   "execution_count": 15,
   "id": "e84fac26",
   "metadata": {},
   "outputs": [
    {
     "data": {
      "text/plain": [
       "'두 번째 헤더'"
      ]
     },
     "execution_count": 15,
     "metadata": {},
     "output_type": "execute_result"
    }
   ],
   "source": [
    "output = soup.find(\"h1\", class_=\"header\")\n",
    "output.text"
   ]
  },
  {
   "cell_type": "code",
   "execution_count": 18,
   "id": "45758b41",
   "metadata": {},
   "outputs": [
    {
     "name": "stdout",
     "output_type": "stream",
     "text": [
      "설명3\n"
     ]
    }
   ],
   "source": [
    "print(soup.find_all(\"div\", class_=\"description\")[2].text)"
   ]
  },
  {
   "cell_type": "code",
   "execution_count": null,
   "id": "e382e61b",
   "metadata": {},
   "outputs": [
    {
     "name": "stdout",
     "output_type": "stream",
     "text": [
      "링크 1\n",
      "https://example1.com\n",
      "{'href': 'https://example1.com', 'class': ['link']}\n",
      "https://example1.com\n",
      "https://example1.com\n",
      "\n",
      "링크 2\n",
      "https://example2.com\n",
      "{'href': 'https://example2.com', 'class': ['link']}\n",
      "https://example2.com\n",
      "https://example2.com\n",
      "\n",
      "링크 3\n",
      "https://example3.com\n",
      "{'href': 'https://example3.com', 'class': ['external']}\n",
      "https://example3.com\n",
      "https://example3.com\n",
      "\n"
     ]
    }
   ],
   "source": [
    "outputs = soup.find_all(\"a\")\n",
    "\n",
    "for out in outputs:\n",
    "    print(out.text)\n",
    "    print(out[\"href\"])\n",
    "    print(out.attrs)\n",
    "    print(out.attrs[\"href\"])\n",
    "    print(out.attrs.get(\"href\")) ## 딕셔너리에서 링크가 없을때 오류가 나지 않는다.\n",
    "    print()"
   ]
  },
  {
   "cell_type": "code",
   "execution_count": 40,
   "id": "ef16ecf7",
   "metadata": {},
   "outputs": [
    {
     "data": {
      "text/plain": [
       "<div class=\"items\">\n",
       "<div>\n",
       "<img class=\"thumbnail\" src=\"/data/picture1.png\"/>\n",
       "<div class=\"title\">타이틀1</div>\n",
       "<div class=\"description\">설명1</div>\n",
       "</div>\n",
       "<div>\n",
       "<img class=\"thumbnail\" src=\"/data/picture2.png\"/>\n",
       "<div class=\"title\">타이틀2</div>\n",
       "<div class=\"description\">설명2</div>\n",
       "</div>\n",
       "<div>\n",
       "<img class=\"thumbnail\" src=\"/data/picture3.png\"/>\n",
       "<div class=\"title test\">타이틀3</div>\n",
       "<div class=\"description\">설명3</div>\n",
       "</div>\n",
       "</div>"
      ]
     },
     "execution_count": 40,
     "metadata": {},
     "output_type": "execute_result"
    }
   ],
   "source": [
    "# html에서 image, title, description열을 가진 데이터 프레임을 만들고 싶다.\n",
    "# 안에 들어갈 데이터는 image의 url, 제목, 설명을 넣고 싶어요.\n",
    "\n",
    "items_html = soup.find(\"div\", class_=\"items\")\n",
    "items_html\n"
   ]
  },
  {
   "cell_type": "code",
   "execution_count": 41,
   "id": "89ee5e9c",
   "metadata": {},
   "outputs": [
    {
     "data": {
      "text/plain": [
       "[<div class=\"description\">설명1</div>,\n",
       " <div class=\"description\">설명2</div>,\n",
       " <div class=\"description\">설명3</div>]"
      ]
     },
     "execution_count": 41,
     "metadata": {},
     "output_type": "execute_result"
    }
   ],
   "source": [
    "imgs =items_html.find_all(\"img\")\n",
    "imgs\n",
    "\n",
    "titles = items_html.find_all(\"div\", class_=\"title\")\n",
    "titles\n",
    "\n",
    "descripts = items_html.find_all(\"div\", class_=\"description\")\n",
    "descripts"
   ]
  },
  {
   "cell_type": "code",
   "execution_count": 84,
   "id": "08648831",
   "metadata": {},
   "outputs": [],
   "source": [
    "srcs = []\n",
    "for i in imgs:\n",
    "    srcs.append(i.attrs[\"src\"])\n"
   ]
  },
  {
   "cell_type": "code",
   "execution_count": 43,
   "id": "24979952",
   "metadata": {},
   "outputs": [
    {
     "data": {
      "text/plain": [
       "['설명1', '설명2', '설명3']"
      ]
     },
     "execution_count": 43,
     "metadata": {},
     "output_type": "execute_result"
    }
   ],
   "source": [
    "title = []\n",
    "for i in titles:\n",
    "    title.append(i.text)\n",
    "\n",
    "des = []\n",
    "for i in descripts:\n",
    "    des.append(i.text)\n",
    "\n",
    "des\n"
   ]
  },
  {
   "cell_type": "code",
   "execution_count": 44,
   "id": "3c37c88c",
   "metadata": {},
   "outputs": [],
   "source": [
    "import pandas as pd\n",
    "\n",
    "data = {\"image\" : srcs, \"title\" : title, \"description\" : des}\n",
    "\n",
    "df = pd.DataFrame(data)"
   ]
  },
  {
   "cell_type": "code",
   "execution_count": 45,
   "id": "e2642d80",
   "metadata": {},
   "outputs": [
    {
     "data": {
      "text/html": [
       "<div>\n",
       "<style scoped>\n",
       "    .dataframe tbody tr th:only-of-type {\n",
       "        vertical-align: middle;\n",
       "    }\n",
       "\n",
       "    .dataframe tbody tr th {\n",
       "        vertical-align: top;\n",
       "    }\n",
       "\n",
       "    .dataframe thead th {\n",
       "        text-align: right;\n",
       "    }\n",
       "</style>\n",
       "<table border=\"1\" class=\"dataframe\">\n",
       "  <thead>\n",
       "    <tr style=\"text-align: right;\">\n",
       "      <th></th>\n",
       "      <th>image</th>\n",
       "      <th>title</th>\n",
       "      <th>description</th>\n",
       "    </tr>\n",
       "  </thead>\n",
       "  <tbody>\n",
       "    <tr>\n",
       "      <th>0</th>\n",
       "      <td>/data/picture1.png</td>\n",
       "      <td>타이틀1</td>\n",
       "      <td>설명1</td>\n",
       "    </tr>\n",
       "    <tr>\n",
       "      <th>1</th>\n",
       "      <td>/data/picture2.png</td>\n",
       "      <td>타이틀2</td>\n",
       "      <td>설명2</td>\n",
       "    </tr>\n",
       "    <tr>\n",
       "      <th>2</th>\n",
       "      <td>/data/picture3.png</td>\n",
       "      <td>타이틀3</td>\n",
       "      <td>설명3</td>\n",
       "    </tr>\n",
       "  </tbody>\n",
       "</table>\n",
       "</div>"
      ],
      "text/plain": [
       "                image title description\n",
       "0  /data/picture1.png  타이틀1         설명1\n",
       "1  /data/picture2.png  타이틀2         설명2\n",
       "2  /data/picture3.png  타이틀3         설명3"
      ]
     },
     "execution_count": 45,
     "metadata": {},
     "output_type": "execute_result"
    }
   ],
   "source": [
    "df"
   ]
  },
  {
   "cell_type": "code",
   "execution_count": 66,
   "id": "06444013",
   "metadata": {},
   "outputs": [
    {
     "name": "stdout",
     "output_type": "stream",
     "text": [
      "[<div>\n",
      "<img class=\"thumbnail\" src=\"/data/picture1.png\"/>\n",
      "<div class=\"title\">타이틀1</div>\n",
      "<div class=\"description\">설명1</div>\n",
      "</div>, <div>\n",
      "<img class=\"thumbnail\" src=\"/data/picture2.png\"/>\n",
      "<div class=\"title\">타이틀2</div>\n",
      "<div class=\"description\">설명2</div>\n",
      "</div>, <div>\n",
      "<img class=\"thumbnail\" src=\"/data/picture3.png\"/>\n",
      "<div class=\"title test\">타이틀3</div>\n",
      "<div class=\"description\">설명3</div>\n",
      "</div>]\n"
     ]
    }
   ],
   "source": [
    "div_outputs = items_html.find_all(\"div\", recursive=False) \n",
    "## 바로 아래 속한 div만 가져오기 위해 recursive=False\n",
    "print(div_outputs)"
   ]
  },
  {
   "cell_type": "code",
   "execution_count": 81,
   "id": "76abab6a",
   "metadata": {},
   "outputs": [
    {
     "name": "stdout",
     "output_type": "stream",
     "text": [
      "==================\n",
      "==================\n",
      "==================\n"
     ]
    }
   ],
   "source": [
    "data_list = []\n",
    "for output in div_outputs:\n",
    "    temp_dict = {}\n",
    "    temp_dict[\"image\"] = output.find(\"img\").attrs[\"src\"]\n",
    "    temp_dict[\"title\"] = output.find(\"div\", class_=\"title\").text\n",
    "    temp_dict[\"description\"] = output.find(\"div\", class_=\"description\").text\n",
    "    data_list.append(temp_dict)\n",
    "    print(\"======\"*3)"
   ]
  },
  {
   "cell_type": "code",
   "execution_count": 80,
   "id": "02b35f08",
   "metadata": {},
   "outputs": [
    {
     "data": {
      "text/plain": [
       "[{'imgurl': '/data/picture1.png', 'title': '타이틀1', 'des': '설명1'},\n",
       " {'imgurl': '/data/picture2.png', 'title': '타이틀2', 'des': '설명2'},\n",
       " {'imgurl': '/data/picture3.png', 'title': '타이틀3', 'des': '설명3'}]"
      ]
     },
     "execution_count": 80,
     "metadata": {},
     "output_type": "execute_result"
    }
   ],
   "source": [
    "data_list"
   ]
  },
  {
   "cell_type": "code",
   "execution_count": 82,
   "id": "c517c841",
   "metadata": {},
   "outputs": [
    {
     "data": {
      "text/html": [
       "<div>\n",
       "<style scoped>\n",
       "    .dataframe tbody tr th:only-of-type {\n",
       "        vertical-align: middle;\n",
       "    }\n",
       "\n",
       "    .dataframe tbody tr th {\n",
       "        vertical-align: top;\n",
       "    }\n",
       "\n",
       "    .dataframe thead th {\n",
       "        text-align: right;\n",
       "    }\n",
       "</style>\n",
       "<table border=\"1\" class=\"dataframe\">\n",
       "  <thead>\n",
       "    <tr style=\"text-align: right;\">\n",
       "      <th></th>\n",
       "      <th>image</th>\n",
       "      <th>title</th>\n",
       "      <th>description</th>\n",
       "    </tr>\n",
       "  </thead>\n",
       "  <tbody>\n",
       "    <tr>\n",
       "      <th>0</th>\n",
       "      <td>/data/picture1.png</td>\n",
       "      <td>타이틀1</td>\n",
       "      <td>설명1</td>\n",
       "    </tr>\n",
       "    <tr>\n",
       "      <th>1</th>\n",
       "      <td>/data/picture2.png</td>\n",
       "      <td>타이틀2</td>\n",
       "      <td>설명2</td>\n",
       "    </tr>\n",
       "    <tr>\n",
       "      <th>2</th>\n",
       "      <td>/data/picture3.png</td>\n",
       "      <td>타이틀3</td>\n",
       "      <td>설명3</td>\n",
       "    </tr>\n",
       "  </tbody>\n",
       "</table>\n",
       "</div>"
      ],
      "text/plain": [
       "                image title description\n",
       "0  /data/picture1.png  타이틀1         설명1\n",
       "1  /data/picture2.png  타이틀2         설명2\n",
       "2  /data/picture3.png  타이틀3         설명3"
      ]
     },
     "execution_count": 82,
     "metadata": {},
     "output_type": "execute_result"
    }
   ],
   "source": [
    "df = pd.DataFrame(data_list)\n",
    "df"
   ]
  },
  {
   "cell_type": "markdown",
   "id": "495ff0af",
   "metadata": {},
   "source": [
    "## ` soup.select('경로') `"
   ]
  },
  {
   "cell_type": "markdown",
   "id": "7bbd4334",
   "metadata": {},
   "source": [
    "* 클래스명: 태그명.클래스이름\n",
    "* id명: `#id이름`"
   ]
  },
  {
   "cell_type": "code",
   "execution_count": 86,
   "id": "c8173f6c",
   "metadata": {},
   "outputs": [
    {
     "data": {
      "text/plain": [
       "<a class=\"link\" href=\"https://example1.com\">링크 1</a>"
      ]
     },
     "execution_count": 86,
     "metadata": {},
     "output_type": "execute_result"
    }
   ],
   "source": [
    "# 링크 1을 출력하고 싶어요\n",
    "soup.select_one('div > a')"
   ]
  },
  {
   "cell_type": "code",
   "execution_count": 101,
   "id": "b90b5dac",
   "metadata": {},
   "outputs": [
    {
     "data": {
      "text/plain": [
       "'https://example2.com'"
      ]
     },
     "execution_count": 101,
     "metadata": {},
     "output_type": "execute_result"
    }
   ],
   "source": [
    "# 링크 2을 출력하고 싶어요\n",
    "soup.select('div > a')[1].attrs[\"href\"]"
   ]
  },
  {
   "cell_type": "code",
   "execution_count": 98,
   "id": "44888e3c",
   "metadata": {},
   "outputs": [
    {
     "data": {
      "text/plain": [
       "[<a class=\"link\" href=\"https://example2.com\">링크 2</a>]"
      ]
     },
     "execution_count": 98,
     "metadata": {},
     "output_type": "execute_result"
    }
   ],
   "source": [
    "#링크 2를 출력하고 싶어요\n",
    "soup.select('div#main > a:nth-child(5)')"
   ]
  },
  {
   "cell_type": "code",
   "execution_count": null,
   "id": "f7c0fb1d",
   "metadata": {},
   "outputs": [
    {
     "data": {
      "text/plain": [
       "[<div>\n",
       " <img class=\"thumbnail\" src=\"/data/picture3.png\"/>\n",
       " <div class=\"title test\">타이틀3</div>\n",
       " <div class=\"description\">설명3</div>\n",
       " </div>]"
      ]
     },
     "execution_count": 89,
     "metadata": {},
     "output_type": "execute_result"
    }
   ],
   "source": [
    "# <div>\n",
    "#     <img class=\"thumbnail\" src=\"/data/picture3.png\" />\n",
    "#     <div class=\"title test\">타이틀3</div>\n",
    "#     <div class=\"description\">설명3</div>\n",
    "# </div> 를 출력하고싶어요\n",
    "\n",
    "# div.items > div:nth-child(3) -> div.items 밑에서 div중에 3번째 자식을 가져와라\n",
    "soup.select('div.items > div:nth-child(3)')"
   ]
  },
  {
   "cell_type": "code",
   "execution_count": 85,
   "id": "8f729e12",
   "metadata": {},
   "outputs": [
    {
     "data": {
      "text/plain": [
       "[<div class=\"content\" id=\"main2\">\n",
       " <div class=\"items\">\n",
       " <div>\n",
       " <img class=\"thumbnail\" src=\"/data/picture1.png\"/>\n",
       " <div class=\"title\">타이틀1</div>\n",
       " <div class=\"description\">설명1</div>\n",
       " </div>\n",
       " <div>\n",
       " <img class=\"thumbnail\" src=\"/data/picture2.png\"/>\n",
       " <div class=\"title\">타이틀2</div>\n",
       " <div class=\"description\">설명2</div>\n",
       " </div>\n",
       " <div>\n",
       " <img class=\"thumbnail\" src=\"/data/picture3.png\"/>\n",
       " <div class=\"title test\">타이틀3</div>\n",
       " <div class=\"description\">설명3</div>\n",
       " </div>\n",
       " </div>\n",
       " </div>]"
      ]
     },
     "execution_count": 85,
     "metadata": {},
     "output_type": "execute_result"
    }
   ],
   "source": [
    "#id 가 main2를 출력해주세요\n",
    "soup.select('#main2')"
   ]
  },
  {
   "cell_type": "markdown",
   "id": "5dd6153a",
   "metadata": {},
   "source": [
    "# 2.교보문고 HTML 크롤링하기"
   ]
  },
  {
   "cell_type": "markdown",
   "id": "8e7cd6d2",
   "metadata": {},
   "source": [
    "# 1) HTML 요청하기\n"
   ]
  },
  {
   "cell_type": "code",
   "execution_count": null,
   "id": "50563741",
   "metadata": {},
   "outputs": [],
   "source": [
    "import requests\n",
    "from bs4 import BeautifulSoup\n",
    "\n",
    "base_url = \"https://search.kyobobook.co.kr/search\"\n",
    "\n",
    "keyword= '인공지능'\n",
    "code='TOT'\n",
    "target='kyobo'\n",
    "page = 2\n",
    "\n",
    "params = {\n",
    "    'keyword': keyword,\n",
    "    'gbCode': code,\n",
    "    \"target\": target,\n",
    "    \"page\": page\n",
    "}\n",
    "\n",
    "#url = f\"{base_url}?keword={keyword}&gbCode={code}&target={target}&page={page}\"\n",
    "\n",
    "# User-Agent 입력\n",
    "headers = {\n",
    "    \"User-Agent\": \"Mozilla/5.0 (Windows NT 10.0; Win64; x64) AppleWebKit/537.36 (KHTML, like Gecko) Chrome/138.0.0.0 Safari/537.36\"\n",
    "}\n",
    "response = requests.get(base_url, params=params)\n",
    "\n"
   ]
  },
  {
   "cell_type": "markdown",
   "id": "60b88855",
   "metadata": {},
   "source": [
    "# 2) HTML 파싱 준비하기"
   ]
  },
  {
   "cell_type": "code",
   "execution_count": 111,
   "id": "b71b363b",
   "metadata": {},
   "outputs": [],
   "source": [
    "html = response.text\n",
    "soup = BeautifulSoup(html, \"html.parser\")"
   ]
  },
  {
   "cell_type": "markdown",
   "id": "b7b97a17",
   "metadata": {},
   "source": [
    "# 3) 파싱"
   ]
  },
  {
   "cell_type": "code",
   "execution_count": 120,
   "id": "2f600efb",
   "metadata": {},
   "outputs": [],
   "source": [
    "# ul 태그 : class 가 prod_list\n",
    "prod_list = soup.find(\"ul\", class_='prod_list')\n",
    "\n",
    "#soup.select('ul.prod_list > li.prod_item')"
   ]
  },
  {
   "cell_type": "code",
   "execution_count": 158,
   "id": "5979fa73",
   "metadata": {},
   "outputs": [
    {
     "name": "stdout",
     "output_type": "stream",
     "text": [
      "20\n"
     ]
    }
   ],
   "source": [
    "# prod_list 에서 li태그: class가 prod_item\n",
    "\n",
    "# prod_list에서 li태그: class가 prod_item\n",
    "prod_item = prod_list.find_all(\"li\", class_=\"prod_item\")\n",
    "print(len(prod_item))"
   ]
  },
  {
   "cell_type": "code",
   "execution_count": 146,
   "id": "4de0206b",
   "metadata": {},
   "outputs": [
    {
     "data": {
      "text/plain": [
       "<li class=\"prod_item\">\n",
       "<!-- 체크박스 영역 -->\n",
       "<!-- 체크박스 영역 -->\n",
       "<span class=\"form_chk no_label\">\n",
       "<!--교보일때-->\n",
       "<input class=\"result_checkbox spec_checkbox\" data-bid=\"9791163633228\" data-cdtn-code=\"001\" data-code=\"KOR\" data-comb-code=\"0\" data-grp-code=\"SGK\" data-name=\"배울수록 더 강해지는 인공 지능\" data-pid=\"S000001822266\" data-prhb-age=\"0\" id=\"chkSearch_S000001822266\" name=\"001_001_S000001822266_chkSearchNm\" type=\"checkbox\"/>\n",
       "<!--ebook/sam일때-->\n",
       "<!--핫트랙스일때-->\n",
       "<!--중고 장터일때-->\n",
       "<label for=\"chkSearch_S000001822266\"><span class=\"hidden\">상품선택</span></label>\n",
       "</span>\n",
       "<!-- // 체크박스 영역 -->\n",
       "<!-- 상품 영역 -->\n",
       "<div class=\"prod_area horizontal\">\n",
       "<div class=\"prod_thumb_box size_lg\">\n",
       "<a class=\"prod_link\" href=\"https://product.kyobobook.co.kr/detail/S000001822266\" onclick=\"searchResultItemClickEvent('상품 썸네일', &quot;S000001822266&quot;);\">\n",
       "<span class=\"img_box\">\n",
       "<img class=\"prod_img_load\" data-kbbfn=\"s3-image\" data-kbbfn-adult=\"0\" data-kbbfn-attr=\"src\" data-kbbfn-bid=\"9791163633228\" data-kbbfn-pid=\"S000001822266\" data-kbbfn-size=\"200x0\" data-kbbfn-title=\"배울수록 더 강해지는 인공 지능\" data-kbbfn-type=\"KOR\">\n",
       "</img></span>\n",
       "</a>\n",
       "<div class=\"prod_viewer_control\">\n",
       "<button class=\"btn_prod_viewer\" onclick=\"searchResultPreviewClickEvent('미리보기', &quot;S000001822266&quot;);\" type=\"button\"><span class=\"ico_preview\"></span><span class=\"text\">미리보기</span></button>\n",
       "</div>\n",
       "</div>\n",
       "<div class=\"prod_info_box\">\n",
       "<!-- 라벨 -->\n",
       "<!-- 라벨 페이지 -->\n",
       "<div class=\"prod_badge\">\n",
       "<!--교보일때-->\n",
       "<!--종이책, 컬쳐(유료), GIFT일때-->\n",
       "<!-- DESC : 썸네일로 보기 타입에서 노출되는 뱃지 [ rep ] class 추가 -->\n",
       "<!--ebook/sam 일때-->\n",
       "<!--핫트랙스일때-->\n",
       "</div>\n",
       "<!-- // 라벨 -->\n",
       "<!-- 상품명 -->\n",
       "<div class=\"auto_overflow_wrap prod_name_group\">\n",
       "<div class=\"auto_overflow_contents\">\n",
       "<div class=\"auto_overflow_inner\">\n",
       "<a class=\"prod_info\" href=\"https://product.kyobobook.co.kr/detail/S000001822266\" onclick=\"searchResultItemClickEvent('상품 제목', &quot;S000001822266&quot;);\">\n",
       "<span class=\"prod_category\">[국내도서]</span>\n",
       "<span id=\"cmdtName_S000001822266\">배울수록 더 강해지는 인공 지능</span>\n",
       "</a>\n",
       "</div>\n",
       "</div>\n",
       "<div class=\"auto_overflow_footer\">\n",
       "<button class=\"btn_more_detail\" data-role=\"btn-dialog\" data-target=\"#popAllProdTitle\" onclick='goTitlePopup(\"S000001822266\");' type=\"button\"><span class=\"hidden\">더보기</span><span class=\"ico_plus\"></span></button>\n",
       "<!-- LayerPopup area -->\n",
       "<!-- 타이틀 전체보기 -->\n",
       "<div class=\"dialog_wrap no_title\" id=\"popAllProdTitle\">\n",
       "<button class=\"btn_dialog_close\" data-dialog-close=\"\" type=\"button\"><span class=\"ico_dialog_close\"></span><span class=\"hidden\">닫기</span></button>\n",
       "<!-- dialog_contents -->\n",
       "<div class=\"dialog_contents\">\n",
       "<div class=\"custom_scroll_wrap\">\n",
       "<div class=\"prod_detail_title_wrap\">\n",
       "<!-- prod_title_area -->\n",
       "<div class=\"prod_title_area\">\n",
       "<!-- 상품 타이틀 -->\n",
       "<div class=\"prod_title_box\">\n",
       "<!-- DESC : 상품 타이틀 구분 값 케이스\n",
       "                        - 일반 구분 값 : .prod_label\n",
       "                        - 관칭관제 : .prod_alias\n",
       "                        - 상품명 : .prod_title\n",
       "                    -->\n",
       "<span class=\"prod_label\" id=\"gubun1\"></span>\n",
       "<span class=\"gap gubun2\">·</span>\n",
       "<span class=\"prod_label\" id=\"gubun2\"></span>\n",
       "<span class=\"gap gubun3\">·</span>\n",
       "<span class=\"prod_label\" id=\"gubun3\"></span>\n",
       "<!-- 수정 220425 SEO H태그 적용. 관칭관제 + 상품명 -->\n",
       "<h1>\n",
       "<span class=\"prod_alias\" id=\"kwch\"></span>\n",
       "<span class=\"prod_title\" id=\"cmdtName\"></span>\n",
       "</h1>\n",
       "<!-- //수정 220425 SEO H태그 적용. 관칭관제 + 상품명 -->\n",
       "</div>\n",
       "<!-- //상품 타이틀 -->\n",
       "</div>\n",
       "<!-- //prod_title_area -->\n",
       "<!-- prod_desc_area -->\n",
       "<div class=\"prod_desc_area\">\n",
       "<!-- DESC : 상품 타이틀 (스크립트 적용되어 있음) 자세한 내용은 가이드 참고 부탁드립니다. -->\n",
       "<!-- 상품 부제명 -->\n",
       "<div class=\"prod_desc_box\">\n",
       "<!-- DESC : 상품 부제명 / 부가 정보 구분 값 케이스\n",
       "                        - 부제명 : 추가 클래스 X\n",
       "                        - 일반 부가 정보 : .normal 클래스 추가\n",
       "                    -->\n",
       "<span class=\"prod_desc\" id=\"subtitle_1\"></span>\n",
       "<span class=\"gap subtitle_2\"> | </span>\n",
       "<span class=\"prod_desc\" id=\"subtitle_2\"></span>\n",
       "<span class=\"gap subtitle_3\"> | </span>\n",
       "<span class=\"prod_desc\" id=\"subtitle_3\"></span>\n",
       "</div>\n",
       "<!-- //상품 부제명 -->\n",
       "<!-- 상품 부제명 -->\n",
       "<div class=\"prod_desc_box\">\n",
       "<!-- DESC : 상품 부제명 / 부가 정보 구분 값 케이스\n",
       "                        - 부제명 : 추가 클래스 X\n",
       "                        - 일반 부가 정보 : .normal 클래스 추가\n",
       "                    -->\n",
       "<span class=\"prod_desc normal\" id=\"splmCntt\"></span>\n",
       "<span class=\"gap bkbnShpName\"> | </span>\n",
       "<span class=\"prod_desc normal\" id=\"bkbnShpName\"></span>\n",
       "<span class=\"gap setCnfgCmdtQntt\"> | </span>\n",
       "<span class=\"prod_desc normal\" id=\"setCnfgCmdtQntt\"></span>\n",
       "</div>\n",
       "<!-- //상품 부제명 -->\n",
       "</div>\n",
       "<!-- //prod_desc_area -->\n",
       "</div>\n",
       "</div>\n",
       "</div>\n",
       "<!-- //dialog_contents -->\n",
       "</div>\n",
       "<!-- //타이틀 전체보기 -->\n",
       "<!-- // LayerPopup area -->\n",
       "</div>\n",
       "</div>\n",
       "<!-- // 상품명 -->\n",
       "<!-- 상품 부제명 -->\n",
       "<div class=\"prod_desc_info\">\n",
       "<span class=\"prod_desc\">인공 지능이 사람보다 더 똑똑해질까? (초등 융합 사회과학 토론왕  55)</span>\n",
       "</div>\n",
       "<!-- // 상품 부제명 -->\n",
       "<!-- 저자, 출판사 정보 -->\n",
       "<div class=\"prod_author_info\">\n",
       "<!-- 강연/공연 인물명, 여행사인경우 type_culture class 추가 -->\n",
       "<div class=\"auto_overflow_wrap prod_author_group\">\n",
       "<!--인물 페이지-->\n",
       "<!--인물역할코드@인물코드@인물명|인물역할코드@인물코드@인물명-->\n",
       "<div class=\"auto_overflow_contents\">\n",
       "<div class=\"auto_overflow_inner\">\n",
       "<!--인물 페이지-->\n",
       "<!-- DESC :썸네일로 보기 타입에서 노출되는 대표 1명 저자에 [ rep ] class 추가 -->\n",
       "<a class=\"author rep\" href=\"javascript:void(0);\" onclick=\"goClickSearchPage('chrc',&quot;1115177701&quot;,&quot;\\uAE40\\uB2E4\\uD574&quot;);\">김다해</a>\n",
       "<!--인물역할코드 페이지-->\n",
       "<!--인물역할코드-->\n",
       "<span class=\"type\">저자(글)</span>\n",
       "<span class=\"gap\"> | </span>\n",
       "<!--인물 페이지-->\n",
       "<!-- DESC :썸네일로 보기 타입에서 노출되는 대표 1명 저자에 [ rep ] class 추가 -->\n",
       "<a class=\"author\" href=\"javascript:void(0);\" onclick=\"goClickSearchPage('chrc',&quot;1000285613&quot;,&quot;\\uC774\\uD604\\uC815&quot;);\">이현정</a>\n",
       "<!--인물역할코드 페이지-->\n",
       "<!--인물역할코드-->\n",
       "<span class=\"type\">그림/만화</span>\n",
       "<span class=\"count\">외</span>\n",
       "</div>\n",
       "</div>\n",
       "<div class=\"auto_overflow_footer\">\n",
       "<button class=\"btn_more_detail\" data-role=\"btn-dialog\" data-target=\"#popAuthorView\" onclick='goAuthorPopup(\"001@1115177701@\\uAE40\\uB2E4\\uD574|005@1000285613@\\uC774\\uD604\\uC815\");' type=\"button\"><span class=\"hidden\">더보기</span><span class=\"ico_plus\"></span></button>\n",
       "</div>\n",
       "<!--인물 페이지-->\n",
       "<!-- LayerPopup area -->\n",
       "<!-- 저자 모두보기 팝업 -->\n",
       "<!-- 수정 211207 div.dialog_author 클래스 추가 -->\n",
       "<div class=\"dialog_wrap dialog_author\" data-class=\"dialog_sm\" id=\"popAuthorView\">\n",
       "<button class=\"btn_dialog_close\" data-dialog-close=\"\" type=\"button\"><span class=\"ico_dialog_close\"></span><span class=\"hidden\">닫기</span></button>\n",
       "<!-- dialog_header -->\n",
       "<div class=\"dialog_header\">\n",
       "<h1 class=\"dialog_title\">저자 모두보기</h1><!-- 수정 220425 SEO H태그 적용 -->\n",
       "</div>\n",
       "<!-- //dialog_header -->\n",
       "<!-- dialog_contents -->\n",
       "<div class=\"dialog_contents\">\n",
       "<div class=\"custom_scroll_wrap\">\n",
       "<!-- form_wrap -->\n",
       "<div class=\"form_wrap type_md\" id=\"authorBox\">\n",
       "</div>\n",
       "<!-- //form_wrap -->\n",
       "</div>\n",
       "</div>\n",
       "<!-- //dialog_contents -->\n",
       "</div>\n",
       "<!-- 수정 211207 div.dialog_author 클래스 추가 -->\n",
       "<!-- //저자 모두보기 팝업 -->\n",
       "<!-- // LayerPopup area -->\n",
       "</div>\n",
       "<div class=\"prod_publish\">\n",
       "<a class=\"text\" href=\"javascript:void(0);\" onclick=\"goClickSearchPage('pbcm',&quot;PB35101&quot;,&quot;\\uBB49\\uCE58&quot;);\">뭉치</a>\n",
       "<span class=\"gap\">·</span>\n",
       "<span class=\"date\">2021년 01월 02일</span>\n",
       "</div>\n",
       "</div>\n",
       "<!-- // 저자, 출판사 정보 -->\n",
       "<!--가격정보 페이지-->\n",
       "<!-- 가격정보 페이지 -->\n",
       "<!--판매중일떄-->\n",
       "<!--교보일때-->\n",
       "<!--종이책, 컬쳐(유료), GIFT일때-->\n",
       "<div class=\"prod_price\">\n",
       "<span class=\"percent\">10%</span>\n",
       "<span class=\"price\">\n",
       "<span class=\"val\">12,600</span>\n",
       "<span class=\"unit\">원 </span>\n",
       "</span>\n",
       "<span class=\"price_normal\">\n",
       "<span class=\"text\">정가</span>\n",
       "<s class=\"val\">14,000원</s>\n",
       "</span>\n",
       "<span class=\"gap\">|</span>\n",
       "<span class=\"point\">\n",
       "                            700p\n",
       "                            <span class=\"rate\">(5%)</span>\n",
       "</span>\n",
       "</div>\n",
       "<!--ebook/sam 일때-->\n",
       "<!--핫트랙스일때-->\n",
       "<!--판매중이 아닐떄-->\n",
       "<!--중고 장터일때-->\n",
       "<!--//가격정보 페이지-->\n",
       "<!-- 리뷰 정보, 썸네일형 찜하기 버튼 -->\n",
       "<div class=\"prod_bottom\">\n",
       "<!--좋아요 버튼(썸네일) 정책 레이아웃-->\n",
       "<!-- 좋아요 버튼 정책 레이아웃-->\n",
       "<!-- DESC : 찜하기 버튼 활성화 시 button.btn_wish 영역 [active] class 추가 -->\n",
       "<!--교보일때-->\n",
       "<input data-bid=\"9791163633228\" data-pid=\"S000001822266\" id=\"searchWishItemInfo_S000001822266\" name=\"001_001_S000001822266_searchWishItemNm\" type=\"hidden\"/>\n",
       "<button class=\"btn_wish_icon bottom\" data-cmdtcode=\"9791163633228\" id=\"S000001822266_CMDTCODE_ICON_BOTTOM\" onclick='searchResultWishClickEvent(this, false, \"S000001822266\");' type=\"button\"><span class=\"ico_wish\"></span><span class=\"hidden\">관심 등록</span>\n",
       "<span class=\"val\" id=\"S000001822266_CMDTCODE_VAL_BOTTOM\">0</span>\n",
       "</button>\n",
       "<!--ebook/sam일때-->\n",
       "<!--핫트랙스일때-->\n",
       "<!--중고 장터일때-->\n",
       "<!--//좋아요 버튼(썸네일) 정책 레이아웃-->\n",
       "<!--클로버리뷰-->\n",
       "<!-- 클로버 리뷰 페이지 -->\n",
       "<a class=\"review_summary_wrap type_sm\" href=\"javascript:void(0);\" onclick='goKloverReviewPage(\n",
       "       \"KOR\",\n",
       "       \"S000001822266\"\n",
       "        );'>\n",
       "<span class=\"review_klover_box\">\n",
       "<span class=\"review_klover_text font_size_xxs\">9.64</span>\n",
       "<!--임시 조건-->\n",
       "<span class=\"review_desc\">(5)</span>\n",
       "<!--//임시조건-->\n",
       "</span>\n",
       "<!--임시 조건-->\n",
       "<span class=\"gap\">/</span>\n",
       "<span class=\"review_quotes_text font_size_xxs\">좋아해요</span>\n",
       "<!--//임시조건-->\n",
       "</a>\n",
       "<!--//클로버리뷰-->\n",
       "</div>\n",
       "<!-- // 리뷰 정보, 썸네일형 찜하기 버튼 -->\n",
       "<!-- 태그 -->\n",
       "<div class=\"tag_wrap size_sm\">\n",
       "</div>\n",
       "<!-- // 태그 -->\n",
       "<!-- 이벤트 정보 -->\n",
       "<!-- // 이벤트 정보 -->\n",
       "</div>\n",
       "</div>\n",
       "<!-- // 상품 영역 -->\n",
       "<!-- only list type -->\n",
       "<!--<th:block th:if=\"${item.SALE_CMDT_DVSN_CODE} eq 'KOR' or ${item.SALE_CMDT_DVSN_CODE} eq 'ENG' or ${item.SALE_CMDT_DVSN_CODE} eq 'JAP' or ${item.SALE_CMDT_DVSN_CODE} eq 'BNT'  or ${item.SALE_CMDT_DVSN_CODE} eq 'JNT'\">-->\n",
       "<!-- 배송정보 영역 -->\n",
       "<!--바로드림 전용상품이 아닐경우-->\n",
       "<div class=\"prod_order_state\">\n",
       "<span class=\"badge_sm badge_pill badge_primary\"><span class=\"text\">당일배송</span></span>\n",
       "<div class=\"order_state_desc\">\n",
       "<!--<span>지금 주문하면</span> -->\n",
       "<!--<br> -->\n",
       "<span class=\"fw_bold\">오늘(7/24, 목) </span>\n",
       "<br/>\n",
       "<span>도착</span>\n",
       "<div class=\"tooltip_wrap type_sm right\" id=\"tooltip_search\">\n",
       "<button class=\"btn_tooltip\" id=\"btn_tooltip_search\" type=\"button\">\n",
       "<span class=\"ico_info\"></span>\n",
       "<span class=\"hidden\">툴팁열기</span>\n",
       "</button>\n",
       "<div class=\"tooltip_inner\" id=\"tooltip_content_search\">\n",
       "<div class=\"tooltip_header\">\n",
       "<div class=\"tooltip_head_title\">검색결과 배송일자 기준 안내</div>\n",
       "</div>\n",
       "<div class=\"tooltip_contents\">\n",
       "<div class=\"tooltip_desc\">\n",
       "                                    '가장 빠른 배송지' 기준\n",
       "                                    <br/>\n",
       "                                    로그인 후 상품 상세 페이지, 주문/결제 페이지에서\n",
       "                                    <br/>\n",
       "<span class=\"fc_spot\">정확한 배송 안내</span>\n",
       "                                    를 받아보세요.\n",
       "                                </div>\n",
       "</div>\n",
       "<button class=\"btn_tooltip_close\" id=\"btn_tooltip_close_search\" type=\"button\">\n",
       "<span class=\"hidden\">툴팁 닫기</span>\n",
       "</button>\n",
       "</div>\n",
       "</div>\n",
       "</div>\n",
       "</div>\n",
       "<!-- // 배송정보 영역 -->\n",
       "<!--</th:block>-->\n",
       "<!-- 리스트형 타입 버튼영역 -->\n",
       "<div class=\"prod_btn_wrap\">\n",
       "<!--결제기능, 좋아요 버튼 정책 레이아웃-->\n",
       "<!-- 좋아요 버튼 정책 레이아웃-->\n",
       "<!-- DESC : 찜하기 버튼 활성화 시 button.btn_wish 영역 [active] class 추가 -->\n",
       "<!--교보일때-->\n",
       "<input data-bid=\"9791163633228\" data-pid=\"S000001822266\" id=\"searchWishItemInfo_S000001822266\" name=\"001_001_S000001822266_searchWishItemNm\" type=\"hidden\"/>\n",
       "<button class=\"btn_wish_icon\" data-cmdtcode=\"9791163633228\" id=\"S000001822266_CMDTCODE_ICON\" onclick='searchResultWishClickEvent(this, false, \"S000001822266\");' type=\"button\"><span class=\"ico_wish\"></span><span class=\"hidden\">관심 등록</span>\n",
       "<span class=\"val\" id=\"S000001822266_CMDTCODE_VAL\">0</span>\n",
       "</button>\n",
       "<!--ebook/sam일때-->\n",
       "<!--핫트랙스일때-->\n",
       "<!--중고 장터일때-->\n",
       "<!--캐스팅일때-->\n",
       "<!--결제기능 버튼 정책 레이아웃-->\n",
       "<div class=\"btn_wrap full\">\n",
       "<!--교보일때-->\n",
       "<!--판매중/예약중 일떄-->\n",
       "<!--or-->\n",
       "<!--KOR,PBC,ENG,JAP AND CMDT_CDTN_CODE = 002, 019, 010, 049, 003, 016, 017 AND REAL_INVN_QNTT 0 -> 2022.10.20 해당 조건 제거 요청으로 제거 완료 -->\n",
       "<a class=\"btn_sm btn_light_gray\" href=\"javascript:;\" onclick='searchResultCartClickEvent(false, \"S000001822266\");'><span class=\"text\">장바구니</span></a>\n",
       "<a class=\"btn_sm btn_line_primary\" href=\"javascript:;\" onclick='searchResultDirectPickUpClickEvent(\"S000001822266\");'><span class=\"text\">바로드림</span></a>\n",
       "<a class=\"btn_sm btn_primary\" href=\"javascript:;\" onclick='searchResultDirectOrderClickEvent(\"S000001822266\");'><span class=\"text\">바로구매</span></a>\n",
       "<!--품절 상품일때-->\n",
       "<!--출시예정 상품일때-->\n",
       "<!--<th:block th:if=\"${item.CMDT_CDTN_CODE} eq '004'\">\n",
       "                <button type=\"button\" class=\"btn_sm btn_line_primary\" th:onclick=\"clickProdAlarm(S000001822266, SGK, KOR);\"><span class=\"ico_alarm\"></span><span class=\"text\">출시알림</span></button>\n",
       "            </th:block>-->\n",
       "<!--절판,품절,일시품절 일때-->\n",
       "<!--<th:block th:if=\"${item.CMDT_CDTN_CODE} eq '003' or ${item.CMDT_CDTN_CODE} eq '002' or ${item.CMDT_CDTN_CODE} eq '010' or ${item.CMDT_CDTN_CODE} eq '011'\">\n",
       "                <th:block th:if=\"${item.SALE_CMDT_DVSN_CODE} ne 'GFC'\">\n",
       "                    <button type=\"button\" class=\"btn_sm btn_line_primary\" th:onclick=\"clickProdAlarm(S000001822266, , KOR);\"><span class=\"ico_alarm\"></span>\n",
       "                        <th:block th:if=\"${item.SALE_CMDT_DVSN_CODE} eq 'PBC'\"><span class=\"text\">재판매알림</span></th:block>\n",
       "                        <th:block th:unless=\"${item.SALE_CMDT_DVSN_CODE} eq 'PBC'\"><span class=\"text\">재입고알림</span></th:block>\n",
       "                    </button>\n",
       "                </th:block>\n",
       "            </th:block>-->\n",
       "<!--ebook/sam 일때-->\n",
       "<!--핫트랙스일때-->\n",
       "<!--<th:block th:if=\"${item.SALE_CMDT_DVSN_CODE} eq 'MUC' or ${item.SALE_CMDT_DVSN_CODE} eq 'DVD' or ${item.SALE_CMDT_DVSN_CODE} eq 'GFT'\">-->\n",
       "<!-- 앨범 일때-->\n",
       "<!--중고 장터일때-->\n",
       "</div>\n",
       "<!--//결제기능, 좋아요 버튼 정책 레이아웃-->\n",
       "<ul class=\"prod_related_list\">\n",
       "<li class=\"btn_item\">\n",
       "<a class=\"btn_xxs btn_pill btn_line_gray\" href=\"https://ebook-product.kyobobook.co.kr/dig/epd/ebook/E000002947260\" onclick=\"searchResultItemClickEvent('eBook', &quot;S000001822266&quot;);\">\n",
       "<span class=\"text\">eBook</span><span class=\"ico_arw\"></span>\n",
       "</a>\n",
       "</li>\n",
       "                    \n",
       "q\n",
       "                    \n",
       "\n",
       "                    \n",
       "\n",
       "                </ul>\n",
       "</div>\n",
       "</li>"
      ]
     },
     "execution_count": 146,
     "metadata": {},
     "output_type": "execute_result"
    }
   ],
   "source": [
    "one = prod_item[0]\n",
    "one"
   ]
  },
  {
   "cell_type": "code",
   "execution_count": 176,
   "id": "f71d55b6",
   "metadata": {},
   "outputs": [
    {
     "data": {
      "text/plain": [
       "65"
      ]
     },
     "execution_count": 176,
     "metadata": {},
     "output_type": "execute_result"
    }
   ],
   "source": [
    "info_box = one.select_one(\"#shopData_list > ul > li:nth-child(1) > div.prod_area.horizontal > div.prod_info_box\")\n",
    "len(info_box)"
   ]
  },
  {
   "cell_type": "code",
   "execution_count": null,
   "id": "5040c917",
   "metadata": {},
   "outputs": [],
   "source": [
    "#div.auto_overflow_wrap.prod_name_group > div.auto_overflow_contents"
   ]
  },
  {
   "cell_type": "code",
   "execution_count": 154,
   "id": "4232fac7",
   "metadata": {},
   "outputs": [
    {
     "data": {
      "text/plain": [
       "<div class=\"auto_overflow_contents\">\n",
       "<div class=\"auto_overflow_inner\">\n",
       "<a class=\"prod_info\" href=\"https://product.kyobobook.co.kr/detail/S000001822266\" onclick=\"searchResultItemClickEvent('상품 제목', &quot;S000001822266&quot;);\">\n",
       "<span class=\"prod_category\">[국내도서]</span>\n",
       "<span id=\"cmdtName_S000001822266\">배울수록 더 강해지는 인공 지능</span>\n",
       "</a>\n",
       "</div>\n",
       "</div>"
      ]
     },
     "execution_count": 154,
     "metadata": {},
     "output_type": "execute_result"
    }
   ],
   "source": [
    "title = info_box.select_one('div.auto_overflow_wrap.prod_name_group > div.auto_overflow_contents')\n",
    "title"
   ]
  },
  {
   "cell_type": "code",
   "execution_count": 156,
   "id": "02cce4cf",
   "metadata": {},
   "outputs": [
    {
     "data": {
      "text/plain": [
       "'[국내도서]배울수록 더 강해지는 인공 지능'"
      ]
     },
     "execution_count": 156,
     "metadata": {},
     "output_type": "execute_result"
    }
   ],
   "source": [
    "title.text.replace(\"\\n\", \"\")"
   ]
  },
  {
   "cell_type": "code",
   "execution_count": 165,
   "id": "be4d794b",
   "metadata": {},
   "outputs": [
    {
     "name": "stdout",
     "output_type": "stream",
     "text": [
      "[국내도서]배울수록 더 강해지는 인공 지능\n",
      "[국내도서]모두의 인공지능 with 파이썬\n",
      "[국내도서]도덕적인 AI\n",
      "[국내도서]내가 된다는 것\n",
      "[국내도서]질문으로 답을 찾는 인공지능 윤리 수업\n",
      "[국내도서]AI는 인간을 먹고 자란다\n",
      "[국내도서]누구나 쉽게 캔바 Canva로 끝내는 콘텐츠 디자인\n",
      "[POD]POD오렌지3와 파이썬으로 여는 AI 분석의 세계: 머신러닝부터 딥러닝까지 한 권에\n",
      "[국내도서]만들면서 배우는 아두이노와 40개의 작품들\n",
      "[국내도서]로봇 시대, 인간의 일\n",
      "[국내도서]챗GPT로 시작하는 생성형 AI 프로젝트 수업\n",
      "[국내도서]인간은 아직 좌절하지 마\n",
      "[국내도서]AI, 글쓰기, 저작권\n",
      "[국내도서]인공지능이 다 해주는 브루 Vrew 영상 편집\n",
      "[국내도서]균형 잡힌 뇌\n",
      "[국내도서]디지털 교육 트렌드 리포트 2025\n",
      "[국내도서]예술과 인공지능\n",
      "[국내도서]AI는 세상을 어떻게 바꾸는가\n",
      "[국내도서]AI 지도책\n",
      "[국내도서]만들면서 배우는파이썬과 40개의 작품들\n"
     ]
    }
   ],
   "source": [
    "for prod in prod_item:\n",
    "    info_box = prod.select_one(\"div.prod_area.horizontal > div.prod_info_box\")\n",
    "    #print(info_box)\n",
    "    title = info_box.select_one('div.auto_overflow_wrap.prod_name_group > div.auto_overflow_contents').text\n",
    "    title = title.replace(\"\\n\", \"\")\n",
    "    print(title)"
   ]
  },
  {
   "cell_type": "code",
   "execution_count": 171,
   "id": "0b9bd307",
   "metadata": {},
   "outputs": [
    {
     "name": "stdout",
     "output_type": "stream",
     "text": [
      "[국내도서]배울수록 더 강해지는 인공 지능 12,600원 별점은 9.64\n",
      "[국내도서]모두의 인공지능 with 파이썬 27,000원 별점은 10.0\n",
      "[국내도서]도덕적인 AI 19,800원 별점은 9.47\n",
      "[국내도서]내가 된다는 것 18,000원 별점은 9.75\n",
      "[국내도서]질문으로 답을 찾는 인공지능 윤리 수업 18,900원 별점은 10.0\n",
      "[국내도서]AI는 인간을 먹고 자란다 21,600원 별점은 9.8\n",
      "[국내도서]누구나 쉽게 캔바 Canva로 끝내는 콘텐츠 디자인 18,000원 별점은 9.52\n",
      "[POD]POD오렌지3와 파이썬으로 여는 AI 분석의 세계: 머신러닝부터 딥러닝까지 한 권에 27,000원 별점은 0.0\n",
      "[국내도서]만들면서 배우는 아두이노와 40개의 작품들 22,950원 별점은 10.0\n",
      "[국내도서]로봇 시대, 인간의 일 15,120원 별점은 9.51\n",
      "[국내도서]챗GPT로 시작하는 생성형 AI 프로젝트 수업 18,000원 별점은 10.0\n",
      "[국내도서]인간은 아직 좌절하지 마 13,500원 별점은 10.0\n",
      "[국내도서]AI, 글쓰기, 저작권 10,800원 별점은 10.0\n",
      "[국내도서]인공지능이 다 해주는 브루 Vrew 영상 편집 18,000원 별점은 9.32\n",
      "[국내도서]균형 잡힌 뇌 16,200원 별점은 10.0\n",
      "[국내도서]디지털 교육 트렌드 리포트 2025 19,800원 별점은 10.0\n",
      "[국내도서]예술과 인공지능 18,000원 별점은 10.0\n",
      "[국내도서]AI는 세상을 어떻게 바꾸는가 12,150원 별점은 9.8\n",
      "[국내도서]AI 지도책 18,900원 별점은 9.66\n",
      "[국내도서]만들면서 배우는파이썬과 40개의 작품들 16,920원 별점은 9.62\n"
     ]
    }
   ],
   "source": [
    "# ...existing code...\n",
    "##shopData_list > ul > li:nth-child(1) > div.prod_area.horizontal > div.prod_info_box > div.prod_price > span.price > span.val\n",
    "for prod in prod_item:\n",
    "    info_box = prod.select_one(\"div.prod_area.horizontal > div.prod_info_box\")\n",
    "    #print(info_box)\n",
    "    price = info_box.select_one(\"div.prod_area.horizontal > div.prod_info_box > div.prod_price > span.price > span.val\").text\n",
    "    title = info_box.select_one('div.auto_overflow_wrap.prod_name_group > div.auto_overflow_contents').text\n",
    "    rate = info_box.select_one(\"div.prod_area.horizontal > div.prod_info_box > div.prod_bottom > a > span.review_klover_box > span.review_klover_text.font_size_xxs\").text\n",
    "    title = title.replace(\"\\n\", \"\")\n",
    "    print(title, price + \"원\", f\"별점은 {rate}\")\n",
    "# ...existing code..."
   ]
  }
 ],
 "metadata": {
  "kernelspec": {
   "display_name": "inregular_data_practice (3.13.5)",
   "language": "python",
   "name": "python3"
  },
  "language_info": {
   "codemirror_mode": {
    "name": "ipython",
    "version": 3
   },
   "file_extension": ".py",
   "mimetype": "text/x-python",
   "name": "python",
   "nbconvert_exporter": "python",
   "pygments_lexer": "ipython3",
   "version": "3.13.5"
  }
 },
 "nbformat": 4,
 "nbformat_minor": 5
}
