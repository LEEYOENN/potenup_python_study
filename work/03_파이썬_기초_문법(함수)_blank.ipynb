{
 "cells": [
  {
   "cell_type": "markdown",
   "metadata": {},
   "source": [
    "# 1. 함수"
   ]
  },
  {
   "cell_type": "markdown",
   "metadata": {},
   "source": [
    "### 1) 표현"
   ]
  },
  {
   "cell_type": "markdown",
   "metadata": {},
   "source": [
    "## 2) return"
   ]
  },
  {
   "cell_type": "code",
   "execution_count": null,
   "metadata": {},
   "outputs": [
    {
     "name": "stdout",
     "output_type": "stream",
     "text": [
      "15\n",
      "55\n"
     ]
    }
   ],
   "source": [
    "def calc_sum(*args: int) -> int:\n",
    "    \"\"\"\n",
    "    동적 매개변수의 합을 구하는 함수\n",
    "    \"\"\"\n",
    "    sum = 0\n",
    "    for i in args:\n",
    "        sum += i\n",
    "    return sum\n",
    "\n",
    "print(calc_sum(1, 2, 3, 4, 5))\n",
    "print(calc_sum(1, 2, 3, 4, 5, 6, 7, 8, 9, 10))"
   ]
  },
  {
   "cell_type": "markdown",
   "metadata": {},
   "source": [
    "## 3) 매개변수"
   ]
  },
  {
   "cell_type": "code",
   "execution_count": 4,
   "metadata": {},
   "outputs": [
    {
     "name": "stdout",
     "output_type": "stream",
     "text": [
      "이욘님의 나이는 10세 여성입니다.\n"
     ]
    }
   ],
   "source": [
    "#이름과 나이를 입력하면 문장 반환 함수\n",
    "def make_info(name, age, gender=\"여성\"):\n",
    "    return f\"{name}님의 나이는 {age}세 {gender}입니다.\"\n",
    "\n",
    "print(make_info(\"이욘\", 10))"
   ]
  },
  {
   "cell_type": "code",
   "execution_count": 6,
   "metadata": {},
   "outputs": [
    {
     "name": "stdout",
     "output_type": "stream",
     "text": [
      "이욘님의 나이는 17세 여성입니다.\n",
      "특이사항: 귀여운걸 조아함\n"
     ]
    }
   ],
   "source": [
    "#이름과 나이를 입력하면 문장 반환 함수\n",
    "def make_info(name, age, gender=\"여성\", details=None):\n",
    "    return f\"{name}님의 나이는 {age}세 {gender}입니다.\\n특이사항: {details}\"\n",
    "\n",
    "print(make_info(\"이욘\", 17, details=\"귀여운걸 조아함\"))"
   ]
  },
  {
   "cell_type": "code",
   "execution_count": null,
   "metadata": {},
   "outputs": [
    {
     "name": "stdout",
     "output_type": "stream",
     "text": [
      "94.0\n"
     ]
    }
   ],
   "source": [
    "## 동적 매개변수 *args\n",
    "\n",
    "def get_average_score(*args: int) -> int:\n",
    "    \"\"\"\n",
    "    시험점수의 평균을 구하는 함수\n",
    "    \"\"\"\n",
    "    return (sum(args) / len(args))\n",
    "\n",
    "print(get_average_score(100, 88, 97, 80, 99, 100))"
   ]
  },
  {
   "cell_type": "code",
   "execution_count": null,
   "metadata": {},
   "outputs": [
    {
     "name": "stdout",
     "output_type": "stream",
     "text": [
      "{'name': '홍길동', 'score': 75, 'gender': '남성'}\n"
     ]
    }
   ],
   "source": [
    "## 동적 매개변수 **kargs <-- 매개변수를 딕서너리로 인식\n",
    "def print_score(**kwargs) :\n",
    "    print(kwargs)\n",
    "\n",
    "print_score(name=\"홍길동\", score=75, gender=\"남성\")\n"
   ]
  },
  {
   "cell_type": "markdown",
   "metadata": {},
   "source": [
    "## 4) lambda 함수"
   ]
  },
  {
   "cell_type": "code",
   "execution_count": null,
   "metadata": {},
   "outputs": [],
   "source": [
    "\n",
    "#함수이름   람다    입력값  반환값\n",
    "calc_sum = lambda x, y: x * y\n",
    "print(calc_sum(3, 4))\n",
    "\n",
    "nums = [5, 4, 8, 6, 2, 4, 9, 5, 5 ,4]"
   ]
  },
  {
   "cell_type": "code",
   "execution_count": 10,
   "metadata": {},
   "outputs": [
    {
     "name": "stdout",
     "output_type": "stream",
     "text": [
      "{'노트북': 1200000, '모니터': 290000}\n"
     ]
    }
   ],
   "source": [
    "wishlist = {\"노트북\" :1200000, \"마우스\": 50000, \"키보드\":110000, \"모니터\":290000}\n",
    "\n",
    "new_dict = { k:wishlist[k] for k in wishlist if wishlist[k] >= 150000}\n",
    "\n",
    "print(new_dict)"
   ]
  },
  {
   "cell_type": "code",
   "execution_count": 13,
   "metadata": {},
   "outputs": [
    {
     "name": "stdout",
     "output_type": "stream",
     "text": [
      "{'노트북': 1200000, '모니터': 290000}\n"
     ]
    }
   ],
   "source": [
    "wishlist = {\"노트북\" :1200000, \"마우스\": 50000, \"키보드\":110000, \"모니터\":290000}\n",
    "\n",
    "new_dict = { k:v for k,v in wishlist.items() if v >= 150000}\n",
    "\n",
    "print(new_dict)"
   ]
  },
  {
   "cell_type": "markdown",
   "metadata": {},
   "source": [
    "# 2. 파일 읽기/쓰기"
   ]
  },
  {
   "cell_type": "markdown",
   "metadata": {},
   "source": [
    "## 1) os"
   ]
  },
  {
   "cell_type": "code",
   "execution_count": 15,
   "metadata": {},
   "outputs": [
    {
     "name": "stdout",
     "output_type": "stream",
     "text": [
      "c:\\Users\\user\\potenup\\potenup7thmonth\\work\n"
     ]
    }
   ],
   "source": [
    "import os\n",
    "\n",
    "print(os.getcwd())\n",
    "\n",
    "os.mkdir(\"data\")"
   ]
  },
  {
   "cell_type": "code",
   "execution_count": 26,
   "metadata": {},
   "outputs": [],
   "source": [
    "with open(\"data/test.txt\", \"w\", encoding=\"utf-8\") as f:\n",
    "    f.write(\"Is a Test\\n\")\n",
    "\n",
    "    for i in range(5):\n",
    "        f.writelines(f\"{i}\\n\")"
   ]
  },
  {
   "cell_type": "code",
   "execution_count": null,
   "metadata": {},
   "outputs": [
    {
     "name": "stdout",
     "output_type": "stream",
     "text": [
      "Is a good\n",
      "really dooopeee\n",
      "omgomg\n",
      "deliciousss\n",
      "Its soso\n"
     ]
    }
   ],
   "source": [
    "with open(\"data/data_review.txt\", \"r\", encoding=\"utf-8\") as f:\n",
    "    \n",
    "    for line in f:\n",
    "        print(line.strip())\n"
   ]
  },
  {
   "cell_type": "markdown",
   "metadata": {},
   "source": [
    "## 2) 파일 생성/읽기/추가"
   ]
  },
  {
   "cell_type": "markdown",
   "metadata": {},
   "source": [
    "### 생성"
   ]
  },
  {
   "cell_type": "markdown",
   "metadata": {},
   "source": [
    "### 읽기"
   ]
  },
  {
   "cell_type": "markdown",
   "metadata": {},
   "source": [
    "### 추가"
   ]
  },
  {
   "cell_type": "code",
   "execution_count": 24,
   "metadata": {},
   "outputs": [],
   "source": [
    "reviews = [\"Is a good\", \"really dooopeee\", \"omgomg\", \"deliciousss\", \"Its soso\" ]"
   ]
  },
  {
   "cell_type": "code",
   "execution_count": 25,
   "metadata": {},
   "outputs": [],
   "source": [
    "with open(\"data/data_review.txt\", \"w\", encoding=\"utf-8\") as f:\n",
    "    for review in reviews:\n",
    "        f.write(review + \"\\n\")"
   ]
  },
  {
   "cell_type": "code",
   "execution_count": null,
   "metadata": {},
   "outputs": [
    {
     "name": "stdout",
     "output_type": "stream",
     "text": [
      "\n"
     ]
    }
   ],
   "source": [
    "with open(\"data/data_review.txt\", \"r\", encoding=\"utf-8\") as f:\n",
    "    \n",
    "    # for line in f:\n",
    "    #     print(line.strip())\n",
    "    contents = f.read()\n",
    "\n",
    "print(contents)\n"
   ]
  },
  {
   "cell_type": "markdown",
   "metadata": {},
   "source": [
    "# 3. 예외 처리"
   ]
  },
  {
   "cell_type": "code",
   "execution_count": 40,
   "metadata": {},
   "outputs": [],
   "source": [
    "def devied(x, y):\n",
    "    return x / y\n",
    "\n",
    "result = devied(4, 2)\n"
   ]
  },
  {
   "cell_type": "code",
   "execution_count": 41,
   "metadata": {},
   "outputs": [
    {
     "name": "stdout",
     "output_type": "stream",
     "text": [
      "error: 0으로 나눌 수 없습니다.\n"
     ]
    }
   ],
   "source": [
    "try:\n",
    "    result = devied(8, 0)\n",
    "    print(result)\n",
    "except:\n",
    "    print(\"error: 0으로 나눌 수 없습니다.\")\n"
   ]
  },
  {
   "cell_type": "code",
   "execution_count": 43,
   "metadata": {},
   "outputs": [
    {
     "name": "stdout",
     "output_type": "stream",
     "text": [
      "division by zero\n"
     ]
    }
   ],
   "source": [
    "try:\n",
    "    result = devied(8, 0)\n",
    "except Exception as e:\n",
    "    print(e)"
   ]
  }
 ],
 "metadata": {
  "kernelspec": {
   "display_name": "work",
   "language": "python",
   "name": "python3"
  },
  "language_info": {
   "codemirror_mode": {
    "name": "ipython",
    "version": 3
   },
   "file_extension": ".py",
   "mimetype": "text/x-python",
   "name": "python",
   "nbconvert_exporter": "python",
   "pygments_lexer": "ipython3",
   "version": "3.10.18"
  }
 },
 "nbformat": 4,
 "nbformat_minor": 2
}
