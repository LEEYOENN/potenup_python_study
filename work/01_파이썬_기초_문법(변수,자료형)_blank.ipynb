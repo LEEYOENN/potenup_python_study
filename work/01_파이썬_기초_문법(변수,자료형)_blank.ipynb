{
 "cells": [
  {
   "cell_type": "markdown",
   "metadata": {
    "id": "rykO60mofpWR"
   },
   "source": [
    "# 1. 변수"
   ]
  },
  {
   "cell_type": "code",
   "execution_count": 4,
   "metadata": {},
   "outputs": [
    {
     "data": {
      "text/plain": [
       "20"
      ]
     },
     "execution_count": 4,
     "metadata": {},
     "output_type": "execute_result"
    }
   ],
   "source": [
    "name = '홍길동'\n",
    "age = 20\n",
    "item_count = 15\n",
    "\n",
    "age"
   ]
  },
  {
   "cell_type": "code",
   "execution_count": 5,
   "metadata": {},
   "outputs": [
    {
     "name": "stdout",
     "output_type": "stream",
     "text": [
      "홍길동 20 15\n"
     ]
    }
   ],
   "source": [
    "print(name, age, item_count)"
   ]
  },
  {
   "cell_type": "markdown",
   "metadata": {
    "id": "wUlzBbEmfpWT"
   },
   "source": [
    "# 3. 자료형"
   ]
  },
  {
   "cell_type": "markdown",
   "metadata": {
    "id": "msOAV5snfpWU"
   },
   "source": [
    "## 1) 숫자형"
   ]
  },
  {
   "cell_type": "code",
   "execution_count": 8,
   "metadata": {},
   "outputs": [
    {
     "name": "stdout",
     "output_type": "stream",
     "text": [
      "<class 'int'>\n"
     ]
    }
   ],
   "source": [
    "# 정수 \n",
    "x = 5\n",
    "y = -1\n",
    "z = x*y\n",
    "my_money = 1_000_000_000_000_000\n",
    "print(type(my_money))"
   ]
  },
  {
   "cell_type": "code",
   "execution_count": 10,
   "metadata": {},
   "outputs": [
    {
     "name": "stdout",
     "output_type": "stream",
     "text": [
      "1e-05\n"
     ]
    }
   ],
   "source": [
    "#실수\n",
    "x = 1e-5\n",
    "print(x)"
   ]
  },
  {
   "cell_type": "markdown",
   "metadata": {
    "id": "VNzBbeEefpWU"
   },
   "source": [
    "### (1) 표현"
   ]
  },
  {
   "cell_type": "markdown",
   "metadata": {
    "id": "qArKs0K3fpWU"
   },
   "source": [
    "### (2) 산술/복합 연산"
   ]
  },
  {
   "cell_type": "code",
   "execution_count": null,
   "metadata": {},
   "outputs": [
    {
     "name": "stdout",
     "output_type": "stream",
     "text": [
      "4\n"
     ]
    }
   ],
   "source": [
    "print(12/3)"
   ]
  },
  {
   "cell_type": "markdown",
   "metadata": {
    "id": "5zVloo50fpWU"
   },
   "source": [
    "### (3) 예제"
   ]
  },
  {
   "cell_type": "markdown",
   "metadata": {
    "id": "xRKpBRBKfpWU"
   },
   "source": [
    "반복할 횟수 구하기: 100개의 게시물을 한 페이지에 30개씩 보여주려면 총 몇 페이지가 필요할까요?"
   ]
  },
  {
   "cell_type": "code",
   "execution_count": 14,
   "metadata": {
    "id": "tYff6S7DfpWV"
   },
   "outputs": [
    {
     "name": "stdout",
     "output_type": "stream",
     "text": [
      "4 개\n"
     ]
    }
   ],
   "source": [
    "import numpy as np\n",
    "print(int(np.ceil(100/30)), '개')"
   ]
  },
  {
   "cell_type": "markdown",
   "metadata": {
    "id": "6zj1iSwefpWV"
   },
   "source": [
    "출생년도가 1982일 때 홀수, 짝수 판단하기"
   ]
  },
  {
   "cell_type": "code",
   "execution_count": 17,
   "metadata": {
    "id": "A0Hb8prSfpWV"
   },
   "outputs": [
    {
     "name": "stdout",
     "output_type": "stream",
     "text": [
      "짝수\n"
     ]
    }
   ],
   "source": [
    "year = 1982\n",
    "if year % 2 == 0 :\n",
    "    print(\"짝수\")\n",
    "else:\n",
    "    print(\"홀수\")"
   ]
  },
  {
   "cell_type": "markdown",
   "metadata": {
    "id": "BxNz_w8zfpWV"
   },
   "source": [
    "## 2) ⭐ 문자열"
   ]
  },
  {
   "cell_type": "markdown",
   "metadata": {
    "id": "g5c456kQfpWV"
   },
   "source": [
    "### (1) 표현"
   ]
  },
  {
   "cell_type": "code",
   "execution_count": 35,
   "metadata": {},
   "outputs": [
    {
     "data": {
      "text/plain": [
       "'\"철수가 말했습니다\"'"
      ]
     },
     "execution_count": 35,
     "metadata": {},
     "output_type": "execute_result"
    }
   ],
   "source": [
    "msg = \"\\\"철수가 말했습니다\\\"\"\n",
    "msg"
   ]
  },
  {
   "cell_type": "code",
   "execution_count": 36,
   "metadata": {},
   "outputs": [
    {
     "name": "stdout",
     "output_type": "stream",
     "text": [
      " 안녕\n",
      "전말\n",
      "안녕\n"
     ]
    }
   ],
   "source": [
    "msg = ''' 안녕\n",
    "전말\n",
    "안녕'''\n",
    "\n",
    "print(msg)"
   ]
  },
  {
   "cell_type": "code",
   "execution_count": 38,
   "metadata": {},
   "outputs": [
    {
     "name": "stdout",
     "output_type": "stream",
     "text": [
      "안녕 \n",
      " 정말로\n"
     ]
    }
   ],
   "source": [
    "msg = \"안녕 \\n 정말로\"\n",
    "print(msg)"
   ]
  },
  {
   "cell_type": "markdown",
   "metadata": {
    "id": "toneTdjWfpWV"
   },
   "source": [
    "### (2) 연산"
   ]
  },
  {
   "cell_type": "code",
   "execution_count": 41,
   "metadata": {},
   "outputs": [
    {
     "name": "stdout",
     "output_type": "stream",
     "text": [
      "안녕바보\n",
      "안녕안녕안녕\n"
     ]
    }
   ],
   "source": [
    "a = \"안녕\" \n",
    "b = \"바보\"\n",
    "print(a+b)\n",
    "print(a*3)"
   ]
  },
  {
   "cell_type": "code",
   "execution_count": 43,
   "metadata": {},
   "outputs": [
    {
     "name": "stdout",
     "output_type": "stream",
     "text": [
      "==================================================\n",
      "반복1이 시작되었습니다\n",
      "==================================================\n"
     ]
    }
   ],
   "source": [
    "print(\"=\" * 50)\n",
    "print(\"반복1이 시작되었습니다\")\n",
    "print(\"=\" * 50)"
   ]
  },
  {
   "cell_type": "code",
   "execution_count": null,
   "metadata": {},
   "outputs": [],
   "source": []
  },
  {
   "cell_type": "markdown",
   "metadata": {
    "id": "hUBJ8gzffpWW"
   },
   "source": [
    "### ⭐(3) 인덱싱/슬라이싱"
   ]
  },
  {
   "cell_type": "markdown",
   "metadata": {
    "id": "y6mwyMTAfpWW"
   },
   "source": [
    "#### 슬라이싱"
   ]
  },
  {
   "cell_type": "code",
   "execution_count": 47,
   "metadata": {},
   "outputs": [
    {
     "name": "stdout",
     "output_type": "stream",
     "text": [
      "515632\n",
      "0829\n"
     ]
    }
   ],
   "source": [
    "ids = ['990829-2515632', \"980622-1234567\"]\n",
    "\n",
    "print(ids[0][-6:])\n",
    "print(ids[0][-12:-8])"
   ]
  },
  {
   "cell_type": "markdown",
   "metadata": {
    "id": "pdb-uQGQfpWW"
   },
   "source": [
    "문제. 주민등번호 뒷자리에서 성별을 제외하고 *로 표시해주세요."
   ]
  },
  {
   "cell_type": "code",
   "execution_count": 48,
   "metadata": {
    "id": "d5Tm04Y7fpWW"
   },
   "outputs": [
    {
     "name": "stdout",
     "output_type": "stream",
     "text": [
      "990829-2******\n",
      "980622-1******\n"
     ]
    }
   ],
   "source": [
    "ids = ['990829-2515632', \"980622-1234567\"]\n",
    "\n",
    "\n",
    "# for i in range(14):\n",
    "#     if (i >= 8):\n",
    "#         print(\"*\", end='')\n",
    "#     else: print(id[i], end='')\n",
    "\n",
    "for id in ids:\n",
    "    print(id[:8] +'******')\n"
   ]
  },
  {
   "cell_type": "markdown",
   "metadata": {
    "id": "gATEkKPQfpWW"
   },
   "source": [
    "### (4) 문자열 포매팅(f-string)"
   ]
  },
  {
   "cell_type": "code",
   "execution_count": 49,
   "metadata": {
    "id": "NYRqG_0QfpWW"
   },
   "outputs": [
    {
     "name": "stdout",
     "output_type": "stream",
     "text": [
      "이연님 환영합니다. 3번째 방문이시네요\n"
     ]
    }
   ],
   "source": [
    "name = \"이연\"\n",
    "n = 3\n",
    "print(f\"{name}님 환영합니다. {n}번째 방문이시네요\")"
   ]
  },
  {
   "cell_type": "markdown",
   "metadata": {
    "id": "JeI53FmcfpWW"
   },
   "source": [
    "### (5) 관련 메서드"
   ]
  },
  {
   "cell_type": "markdown",
   "metadata": {
    "id": "2kO-FpdCfpWW"
   },
   "source": [
    "#### ⭐ 문자열 나누기(split)"
   ]
  },
  {
   "cell_type": "code",
   "execution_count": 50,
   "metadata": {
    "id": "UjuLhug4fpWW"
   },
   "outputs": [
    {
     "name": "stdout",
     "output_type": "stream",
     "text": [
      "['서울시', '강동구', '아리수로']\n"
     ]
    }
   ],
   "source": [
    "address = '서울시 강동구 아리수로'\n",
    "address_split = address.split()\n",
    "print(address_split)"
   ]
  },
  {
   "cell_type": "markdown",
   "metadata": {
    "id": "O7SkuuYafpWW"
   },
   "source": [
    "예제. 파일 확장자 찾기"
   ]
  },
  {
   "cell_type": "code",
   "execution_count": 53,
   "metadata": {
    "id": "8HHL8hmKfpWW"
   },
   "outputs": [
    {
     "name": "stdout",
     "output_type": "stream",
     "text": [
      "파일의 확장자는 hwp\n"
     ]
    }
   ],
   "source": [
    "filename = 'mysql.hwp'\n",
    "print(f\"파일의 확장자는 {filename.split('.')[1]}\")"
   ]
  },
  {
   "cell_type": "markdown",
   "metadata": {
    "id": "9AbgJyKYfpWW"
   },
   "source": [
    "#### 문자열 대체(replace)"
   ]
  },
  {
   "cell_type": "code",
   "execution_count": 55,
   "metadata": {
    "id": "vdNBt5V5fpWW"
   },
   "outputs": [
    {
     "name": "stdout",
     "output_type": "stream",
     "text": [
      "heaveno puture\n"
     ]
    }
   ],
   "source": [
    "string = \"hello puture\"\n",
    "string = string.replace('hell', 'heaven')\n",
    "print(string)"
   ]
  },
  {
   "cell_type": "markdown",
   "metadata": {
    "id": "WcpA-035fpWW"
   },
   "source": [
    "#### 대/소문자 변환(lower, upper)"
   ]
  },
  {
   "cell_type": "code",
   "execution_count": 57,
   "metadata": {
    "id": "BtobhPadfpWW"
   },
   "outputs": [
    {
     "name": "stdout",
     "output_type": "stream",
     "text": [
      "HAMBERGER\n",
      "hamberger\n"
     ]
    }
   ],
   "source": [
    "print('hamberger'.upper())\n",
    "print('HAMBERGER'.lower())"
   ]
  },
  {
   "cell_type": "markdown",
   "metadata": {
    "id": "9_t2Lzt6fpWW"
   },
   "source": [
    "#### 공백 제거(lstrip/rstrip/strip)"
   ]
  },
  {
   "cell_type": "code",
   "execution_count": 58,
   "metadata": {
    "id": "NSZRjfk2fpWW"
   },
   "outputs": [
    {
     "name": "stdout",
     "output_type": "stream",
     "text": [
      "|jiho|\n"
     ]
    }
   ],
   "source": [
    "name = \"   jiho  \"\n",
    "print(f\"|{name.strip()}|\")"
   ]
  },
  {
   "cell_type": "markdown",
   "metadata": {
    "id": "MDmVNNmlfpWX"
   },
   "source": [
    "#### 카운트 세기(count)"
   ]
  },
  {
   "cell_type": "code",
   "execution_count": 59,
   "metadata": {
    "id": "4OabxfPpfpWX"
   },
   "outputs": [
    {
     "name": "stdout",
     "output_type": "stream",
     "text": [
      "9\n"
     ]
    }
   ],
   "source": [
    "print(\"mmmmmmffffffMMM\".lower().count('m'))"
   ]
  },
  {
   "cell_type": "markdown",
   "metadata": {
    "id": "TcBsq-A4fpWX"
   },
   "source": [
    "예제. 리뷰\n",
    "\n",
    "짬뽕은 정말 맵고 맛있었어요. 해산물이 가득 들어가서 만족했습니다.\n",
    "짜장면은 이 집에서 먹어본 것 중 가장 맛있었어요\n",
    "짜장면 굿"
   ]
  },
  {
   "cell_type": "code",
   "execution_count": 61,
   "metadata": {
    "id": "dU5G3cEufpWX"
   },
   "outputs": [
    {
     "name": "stdout",
     "output_type": "stream",
     "text": [
      "1\n",
      "2\n"
     ]
    }
   ],
   "source": [
    "review = \"\"\"짬뽕은 정말 맵고 맛있었어요. 해산물이 가득 들어가서 만족했습니다.\n",
    "짜장면은 이 집에서 먹어본 것 중 가장 맛있었어요\n",
    "짜장면 굿\"\"\"\n",
    "print(review.count(\"짬뽕\"))\n",
    "print(review.count(\"짜장면\"))"
   ]
  },
  {
   "cell_type": "markdown",
   "metadata": {
    "id": "32pY-NGFfpWX"
   },
   "source": [
    "## 3) 리스트(List)"
   ]
  },
  {
   "cell_type": "markdown",
   "metadata": {
    "id": "wZ5yZQH-fpWX"
   },
   "source": [
    "### (1) 표현"
   ]
  },
  {
   "cell_type": "code",
   "execution_count": 2,
   "metadata": {
    "id": "HA86_T3JfpWX"
   },
   "outputs": [
    {
     "name": "stdout",
     "output_type": "stream",
     "text": [
      "[1, 2, 3, '가', ['a', 'b', 'c'], (1, 2), {'fruit': 'cherry'}]\n"
     ]
    }
   ],
   "source": [
    "myList = [1, 2, 3, \"가\", [\"a\", \"b\", \"c\"], (1, 2), { \"fruit\" : \"cherry\" }]\n",
    "print(myList)"
   ]
  },
  {
   "cell_type": "code",
   "execution_count": null,
   "metadata": {},
   "outputs": [],
   "source": [
    "person1 = \"green\"\n",
    "person2 = \"jason\"\n"
   ]
  },
  {
   "cell_type": "markdown",
   "metadata": {
    "id": "MJ0aiHRifpWX"
   },
   "source": [
    "### (2) 인덱싱/슬라이싱"
   ]
  },
  {
   "cell_type": "markdown",
   "metadata": {
    "id": "-4z5eF4FfpWX"
   },
   "source": [
    "#### 인덱싱"
   ]
  },
  {
   "cell_type": "code",
   "execution_count": null,
   "metadata": {},
   "outputs": [],
   "source": []
  },
  {
   "cell_type": "markdown",
   "metadata": {
    "id": "FYU_bl_6fpWb"
   },
   "source": [
    "#### 슬라이싱"
   ]
  },
  {
   "cell_type": "code",
   "execution_count": 12,
   "metadata": {},
   "outputs": [
    {
     "name": "stdout",
     "output_type": "stream",
     "text": [
      "['coke', 'pizza', 'pasta']\n"
     ]
    }
   ],
   "source": [
    "orders = [\"pasta\", \"pizza\", \"coke\"]\n",
    "print(orders[::-1])"
   ]
  },
  {
   "cell_type": "markdown",
   "metadata": {
    "id": "M5-urS5_fpWb"
   },
   "source": [
    "예제.\n",
    "\n",
    "```\n",
    "data = [25, \"apple\", 3.13, [\"dog\", \"cat\", \"rabbit\"]]\n",
    "```\n",
    "\n",
    "* \"cat\" 출력"
   ]
  },
  {
   "cell_type": "code",
   "execution_count": 3,
   "metadata": {
    "id": "CQTMPPw-fpWb"
   },
   "outputs": [
    {
     "name": "stdout",
     "output_type": "stream",
     "text": [
      "cat\n"
     ]
    }
   ],
   "source": [
    "data = [25, \"apple\", 3.13, [\"dog\", \"cat\", \"rabbit\"]]\n",
    "print(data[3][1])"
   ]
  },
  {
   "cell_type": "markdown",
   "metadata": {
    "id": "aG4ATJ-HfpWb"
   },
   "source": [
    "예제.\n",
    "\n",
    "```\n",
    "data = [25, 'apple', 3.13, ['dog', 'cat', 'rabbit']]\n",
    "```\n",
    "\n",
    "* ['dog', 'cat'] 출력"
   ]
  },
  {
   "cell_type": "code",
   "execution_count": 4,
   "metadata": {
    "id": "9UwRH5WafpWb"
   },
   "outputs": [
    {
     "name": "stdout",
     "output_type": "stream",
     "text": [
      "['dog', 'cat']\n"
     ]
    }
   ],
   "source": [
    "print(data[3][:2])"
   ]
  },
  {
   "cell_type": "markdown",
   "metadata": {
    "id": "1I_5wkFhfpWb"
   },
   "source": [
    "### (2) 연산"
   ]
  },
  {
   "cell_type": "markdown",
   "metadata": {
    "id": "ESRph4l8fpWc"
   },
   "source": [
    "#### 덧셈"
   ]
  },
  {
   "cell_type": "code",
   "execution_count": 5,
   "metadata": {},
   "outputs": [
    {
     "name": "stdout",
     "output_type": "stream",
     "text": [
      "[1, 2, 3, '원', '투']\n"
     ]
    }
   ],
   "source": [
    "list1 = [1, 2, 3]\n",
    "list2 = ['원', '투']\n",
    "print(list1 + list2)"
   ]
  },
  {
   "cell_type": "markdown",
   "metadata": {
    "id": "BbGZBaetfpWc"
   },
   "source": [
    "#### 곱셈"
   ]
  },
  {
   "cell_type": "code",
   "execution_count": null,
   "metadata": {},
   "outputs": [
    {
     "name": "stdout",
     "output_type": "stream",
     "text": [
      "[1, 2, 3, 1, 2, 3, 1, 2, 3, 1, 2, 3, 1, 2, 3]\n"
     ]
    }
   ],
   "source": [
    "list1 = [1, 2, 3]\n",
    "list2 = ['원', '투']\n",
    "print(list1 * 5)"
   ]
  },
  {
   "cell_type": "markdown",
   "metadata": {
    "id": "qpxQzhmbfpWc"
   },
   "source": [
    "### (3) range"
   ]
  },
  {
   "cell_type": "code",
   "execution_count": 8,
   "metadata": {},
   "outputs": [
    {
     "name": "stdout",
     "output_type": "stream",
     "text": [
      "<class 'range'>\n",
      "<class 'list'>\n",
      "range(0, 5)\n",
      "[0, 1, 2, 3, 4]\n"
     ]
    }
   ],
   "source": [
    "num_list = range(5)\n",
    "print(type(num_list))\n",
    "\n",
    "print(type(list(num_list)))\n",
    "print(num_list)\n",
    "print(list(num_list))"
   ]
  },
  {
   "cell_type": "code",
   "execution_count": null,
   "metadata": {},
   "outputs": [
    {
     "name": "stdout",
     "output_type": "stream",
     "text": [
      "1. [3, 4, 5, 6, 7, 8, 9]\n",
      "2. [2, 4, 6, 8, 10]\n",
      "3. [5, 4, 3, 2, 1, 0]\n"
     ]
    }
   ],
   "source": [
    "#3~9까지 범위를 리스트로 출력\n",
    "print(\"1.\", list(range(3,10)))\n",
    "# 0부터 10까지 짝수만 출력\n",
    "print(\"2.\", list(range(2, 11, 2)))\n",
    "# 0에서 5까지의 범위를 거꾸로 출력\n",
    "print(\"3.\", list(range(5, -1, -1)))"
   ]
  },
  {
   "cell_type": "markdown",
   "metadata": {
    "id": "cUcxDoQtfpWc"
   },
   "source": [
    "### (4) 수정/추가/삭제"
   ]
  },
  {
   "cell_type": "markdown",
   "metadata": {
    "id": "eYSBz_UVfpWc"
   },
   "source": [
    "#### 수정"
   ]
  },
  {
   "cell_type": "code",
   "execution_count": 32,
   "metadata": {},
   "outputs": [
    {
     "name": "stdout",
     "output_type": "stream",
     "text": [
      "[0, '일', 2, 3, 4, 5, 6, 7, 8]\n",
      "[0, '일', 'two', 'three', 4, 5, 6, 7, 8]\n",
      "[0, '일', 'two', 'three', 4, 5, 6, '하하하', '하하하']\n",
      "[10, 10, 10, 10, 4, 5, 6, '하하하', '하하하']\n"
     ]
    }
   ],
   "source": [
    "num_list = [0, 1, 2, 3, 4, 5, 6, 7, 8]\n",
    "\n",
    "num_list[1] = '일'\n",
    "print(num_list)\n",
    "\n",
    "num_list[2:4] = [\"two\", \"three\"]\n",
    "print(num_list)\n",
    "\n",
    "num_list[7:] = [\"하하하\", '하하하']\n",
    "print(num_list)\n",
    "\n",
    "for i in range(4):\n",
    "    num_list[i] = 10\n",
    "print(num_list)"
   ]
  },
  {
   "cell_type": "markdown",
   "metadata": {
    "id": "gESOTUWxfpWc"
   },
   "source": [
    "#### 추가"
   ]
  },
  {
   "cell_type": "code",
   "execution_count": 35,
   "metadata": {},
   "outputs": [
    {
     "name": "stdout",
     "output_type": "stream",
     "text": [
      "[0, 1, 2, 3, 4, 5]\n",
      "[0, 1, 2, 3, 4, 5, 1, 2, 3]\n",
      "[0, 1, 2, 3, 4, 5, 1, 2, 3, [9, 8, 7]]\n"
     ]
    }
   ],
   "source": [
    "data = list(range(5))\n",
    "data += [5]\n",
    "\n",
    "print(data)\n",
    "\n",
    "data += [1, 2, 3]\n",
    "print(data)\n",
    "\n",
    "data.append([9, 8, 7])\n",
    "print(data)"
   ]
  },
  {
   "cell_type": "code",
   "execution_count": 36,
   "metadata": {},
   "outputs": [
    {
     "name": "stdout",
     "output_type": "stream",
     "text": [
      "[0, 1, 2, 3, 4, 5, 1, 2, 3, [9, 8, 7], 8, 7, 6]\n"
     ]
    }
   ],
   "source": [
    "# 여러개 추가 extend\n",
    "data.extend([8, 7, 6])\n",
    "print(data)"
   ]
  },
  {
   "cell_type": "markdown",
   "metadata": {},
   "source": [
    "### 삽입"
   ]
  },
  {
   "cell_type": "code",
   "execution_count": 37,
   "metadata": {},
   "outputs": [
    {
     "name": "stdout",
     "output_type": "stream",
     "text": [
      "[10, 15, 20]\n"
     ]
    }
   ],
   "source": [
    "num_list = [10, 20]\n",
    "\n",
    "num_list.insert(1, 15)\n",
    "print(num_list)"
   ]
  },
  {
   "cell_type": "markdown",
   "metadata": {
    "id": "bJ4Jr4egfpWc"
   },
   "source": [
    "#### 삭제"
   ]
  },
  {
   "cell_type": "code",
   "execution_count": 47,
   "metadata": {},
   "outputs": [
    {
     "name": "stdout",
     "output_type": "stream",
     "text": [
      "[0, 10, 20, 30, 40, 50, 60, 70, 80, 90]\n",
      "[0, 10, 20, 40, 50, 60, 70, 80, 90]\n",
      "[0, 10, 20, 40, 50, 60, 70, 90]\n",
      "[0, 10, 20, 40, 50]\n",
      "50\n",
      "[]\n"
     ]
    }
   ],
   "source": [
    "num_list = list(range(0, 100, 10))\n",
    "print(num_list)\n",
    "\n",
    "#3번째 데이터 삭제해주세요(del)\n",
    "del num_list[3]\n",
    "print(num_list)\n",
    "\n",
    "#7번째 데이터 삭제(remove)\n",
    "num_list.remove(num_list[7])\n",
    "print(num_list)\n",
    "\n",
    "#뒤에서 3번쩨부터 데이터를 삭제\n",
    "del num_list[-3:]\n",
    "print(num_list)\n",
    "\n",
    "#맨 뒤에 있는 데이터를 삭제하고 그 값을 출력\n",
    "print(num_list.pop())\n",
    "\n",
    "#전체데이터를 삭제\n",
    "num_list = []\n",
    "print(num_list)"
   ]
  },
  {
   "cell_type": "markdown",
   "metadata": {
    "id": "3jw2_iXffpWc"
   },
   "source": [
    "예제. 게시물 코드\n",
    "\n",
    "```\n",
    "post_data = [\"ID001\", \"ID002\", \"ID003\", \"ID004\", \"ID005\"]\n",
    "```"
   ]
  },
  {
   "cell_type": "code",
   "execution_count": 52,
   "metadata": {
    "id": "TTVODq-pfpWc"
   },
   "outputs": [
    {
     "name": "stdout",
     "output_type": "stream",
     "text": [
      "ID003\n",
      "['ID003']\n"
     ]
    }
   ],
   "source": [
    "post_data = [\"ID001\", \"ID002\", \"ID003\", \"ID004\", \"ID005\"]\n",
    "\n",
    "pop_data = post_data.pop(2)\n",
    "print(pop_data)\n",
    "\n",
    "error_data = []\n",
    "error_data.append(pop_data)\n",
    "print(error_data)"
   ]
  },
  {
   "cell_type": "markdown",
   "metadata": {
    "id": "nzrEdhKXfpWc"
   },
   "source": [
    "## 4) 튜플(Tuple)"
   ]
  },
  {
   "cell_type": "markdown",
   "metadata": {
    "id": "k6jpRXd8fpWc"
   },
   "source": [
    "### (1) 표현"
   ]
  },
  {
   "cell_type": "code",
   "execution_count": null,
   "metadata": {},
   "outputs": [
    {
     "name": "stdout",
     "output_type": "stream",
     "text": [
      "<class 'tuple'>\n"
     ]
    }
   ],
   "source": [
    "data = ()\n",
    "print(type(data))"
   ]
  },
  {
   "cell_type": "code",
   "execution_count": 58,
   "metadata": {},
   "outputs": [
    {
     "name": "stdout",
     "output_type": "stream",
     "text": [
      "<class 'tuple'>\n",
      "(10,)\n"
     ]
    }
   ],
   "source": [
    "data = (10,)\n",
    "print(type(data))\n",
    "print(data)"
   ]
  },
  {
   "cell_type": "code",
   "execution_count": null,
   "metadata": {},
   "outputs": [
    {
     "ename": "TypeError",
     "evalue": "'tuple' object does not support item assignment",
     "output_type": "error",
     "traceback": [
      "\u001b[1;31m---------------------------------------------------------------------------\u001b[0m",
      "\u001b[1;31mTypeError\u001b[0m                                 Traceback (most recent call last)",
      "Cell \u001b[1;32mIn[59], line 2\u001b[0m\n\u001b[0;32m      1\u001b[0m fruits \u001b[38;5;241m=\u001b[39m (\u001b[38;5;124m'\u001b[39m\u001b[38;5;124m사과\u001b[39m\u001b[38;5;124m'\u001b[39m, \u001b[38;5;124m'\u001b[39m\u001b[38;5;124m오렌지\u001b[39m\u001b[38;5;124m'\u001b[39m, \u001b[38;5;124m'\u001b[39m\u001b[38;5;124m포도\u001b[39m\u001b[38;5;124m'\u001b[39m)\n\u001b[1;32m----> 2\u001b[0m \u001b[43mfruits\u001b[49m\u001b[43m[\u001b[49m\u001b[38;5;241;43m1\u001b[39;49m\u001b[43m]\u001b[49m \u001b[38;5;241m=\u001b[39m \u001b[38;5;124m'\u001b[39m\u001b[38;5;124m멜론\u001b[39m\u001b[38;5;124m'\u001b[39m\n",
      "\u001b[1;31mTypeError\u001b[0m: 'tuple' object does not support item assignment"
     ]
    }
   ],
   "source": [
    "fruits = ('사과', '오렌지', '포도')\n",
    "#fruits[1] = '멜론'\n"
   ]
  },
  {
   "cell_type": "markdown",
   "metadata": {
    "id": "bCZYM_W2fpWc"
   },
   "source": [
    "## 5) 딕셔너리(Dictionary)"
   ]
  },
  {
   "cell_type": "markdown",
   "metadata": {
    "id": "iQ82NPU1fpWc"
   },
   "source": [
    "### (1) 표현"
   ]
  },
  {
   "cell_type": "code",
   "execution_count": 60,
   "metadata": {},
   "outputs": [
    {
     "name": "stdout",
     "output_type": "stream",
     "text": [
      "{}\n",
      "<class 'dict'>\n"
     ]
    }
   ],
   "source": [
    "data = {}\n",
    "print(data)\n",
    "print(type(data))"
   ]
  },
  {
   "cell_type": "code",
   "execution_count": null,
   "metadata": {},
   "outputs": [
    {
     "name": "stdout",
     "output_type": "stream",
     "text": [
      "{'이름': ['andy', 'jenny', 'licky'], '성적': [68, 44, 99]}\n",
      "{'andy': 68, 'jenny': 44, 'licky': 99}\n"
     ]
    }
   ],
   "source": [
    "scores= {\n",
    "    \"이름\" : ['andy', 'jenny', 'licky'],\n",
    "    \"성적\" : [68, 44, 99]\n",
    "} ##중요형태\n",
    "\n",
    "scores2 = {\n",
    "    \"andy\":68, 'jenny':44, 'licky':99\n",
    "}\n",
    "print(scores)\n",
    "print(scores2)"
   ]
  },
  {
   "cell_type": "code",
   "execution_count": 67,
   "metadata": {},
   "outputs": [
    {
     "name": "stdout",
     "output_type": "stream",
     "text": [
      "[{'이름': 'andy', '성적': 68}, {'이름': 'jenny', '성적': 44}, {'이름': 'licky', '성적': 99}]\n"
     ]
    }
   ],
   "source": [
    "scores3 = [\n",
    "    {\"이름\" : 'andy', '성적': 68},\n",
    "    {\"이름\" : 'jenny', '성적': 44},\n",
    "    {\"이름\" : 'licky', '성적': 99}\n",
    "]\n",
    "print(scores3)"
   ]
  },
  {
   "cell_type": "markdown",
   "metadata": {
    "id": "hakTc3rjfpWc"
   },
   "source": [
    "### (2) 딕셔너리 다루기"
   ]
  },
  {
   "cell_type": "markdown",
   "metadata": {
    "id": "s2HGu7VwfpWc"
   },
   "source": [
    "예제. 날씨 데이터\n",
    "* 'city'키 'Busan'으로 수정하기\n",
    "* 미세먼지(`pm10`)키 추가하기 (값: 34)\n",
    "* 'forecast' 키에 ['Rainy', 'Rainy'] 추가하기\n",
    "\n",
    "```\n",
    "weather_data = {\n",
    "    'city': 'Seoul',\n",
    "    'temperature': 22.5,  # 섭씨\n",
    "    'humidity': 60,       # 상대 습도(%)\n",
    "    'forecast': ['Sunny', 'Cloudy', 'Rainy']  # 3일 예보\n",
    "}\n",
    "```"
   ]
  },
  {
   "cell_type": "code",
   "execution_count": 71,
   "metadata": {
    "id": "w3-dH_uTfpWc"
   },
   "outputs": [
    {
     "name": "stdout",
     "output_type": "stream",
     "text": [
      "{'city': 'Busan', 'temperature': 22.5, 'humidity': 60, 'forecast': ['Sunny', 'Cloudy', 'Rainy', 'Rainy', 'Rainy'], 'pm10': 34}\n"
     ]
    }
   ],
   "source": [
    "weather_data = {\n",
    "    'city': 'Seoul',\n",
    "    'temperature': 22.5,  # 섭씨\n",
    "    'humidity': 60,       # 상대 습도(%)\n",
    "    'forecast': ['Sunny', 'Cloudy', 'Rainy']  # 3일 예보\n",
    "}\n",
    "\n",
    "weather_data['city'] = \"Busan\"\n",
    "weather_data['pm10'] = 34\n",
    "weather_data['forecast'].extend(['Rainy', 'Rainy'])\n",
    "\n",
    "print(weather_data)"
   ]
  },
  {
   "cell_type": "markdown",
   "metadata": {
    "id": "T1fOPGfffpWd"
   },
   "source": [
    "### (3) 관련 메서드"
   ]
  },
  {
   "cell_type": "code",
   "execution_count": 73,
   "metadata": {},
   "outputs": [],
   "source": [
    "student = {\"name\" : \"홍길동\", \"age\" : 20, \"height\" : 187.3, \"score\" : 88}"
   ]
  },
  {
   "cell_type": "code",
   "execution_count": 77,
   "metadata": {},
   "outputs": [
    {
     "name": "stdout",
     "output_type": "stream",
     "text": [
      "dict_keys(['name', 'age', 'height', 'score'])\n",
      "<class 'dict_keys'>\n"
     ]
    }
   ],
   "source": [
    "print(student.keys())\n",
    "print(type(student.keys()))"
   ]
  },
  {
   "cell_type": "code",
   "execution_count": 78,
   "metadata": {},
   "outputs": [
    {
     "name": "stdout",
     "output_type": "stream",
     "text": [
      "dict_values(['홍길동', 20, 187.3, 88])\n",
      "<class 'dict_values'>\n"
     ]
    }
   ],
   "source": [
    "print(student.values())\n",
    "print(type(student.values()))"
   ]
  },
  {
   "cell_type": "code",
   "execution_count": 83,
   "metadata": {},
   "outputs": [
    {
     "name": "stdout",
     "output_type": "stream",
     "text": [
      "dict_items([('name', '홍길동'), ('age', 20), ('height', 187.3), ('score', 88)])\n",
      "<class 'dict_items'>\n"
     ]
    }
   ],
   "source": [
    "print(student.items())\n",
    "print(type(student.items()))"
   ]
  },
  {
   "cell_type": "code",
   "execution_count": 88,
   "metadata": {},
   "outputs": [
    {
     "name": "stdout",
     "output_type": "stream",
     "text": [
      "해당 키가 존재하지 않습니다.\n"
     ]
    }
   ],
   "source": [
    "#print(student[\"weight\"])\n",
    "print(student.get(\"weight\", \"해당 키가 존재하지 않습니다.\"))"
   ]
  },
  {
   "cell_type": "code",
   "execution_count": 91,
   "metadata": {},
   "outputs": [
    {
     "name": "stdout",
     "output_type": "stream",
     "text": [
      "A\n"
     ]
    }
   ],
   "source": [
    "# student 딕셔너리에 a라는 키가 있으면 값을 A라고 바꿔주고 아니라면 a라는 키의 값을 \"\"로 만들어주세요\n",
    "\n",
    "#딕셔너리에 해당 학생이 없다면 딕셔너리에 학생이름을 key로 value를 \"참석\"으로 추가\n"
   ]
  },
  {
   "cell_type": "code",
   "execution_count": null,
   "metadata": {},
   "outputs": [
    {
     "name": "stdout",
     "output_type": "stream",
     "text": [
      "name 홍길동\n",
      "age 20\n",
      "height 187.3\n",
      "score 88\n"
     ]
    }
   ],
   "source": [
    "for k, v in student.items():\n",
    "    print(k, v)"
   ]
  },
  {
   "cell_type": "markdown",
   "metadata": {
    "id": "xyFqV-k4fpWd"
   },
   "source": [
    "#### 조회"
   ]
  },
  {
   "cell_type": "code",
   "execution_count": 99,
   "metadata": {},
   "outputs": [],
   "source": [
    "for k in student.values():\n",
    "    print(k)"
   ]
  },
  {
   "cell_type": "markdown",
   "metadata": {
    "id": "NXLo6tYHfpWd"
   },
   "source": [
    "#### 삭제"
   ]
  },
  {
   "cell_type": "code",
   "execution_count": 100,
   "metadata": {},
   "outputs": [
    {
     "name": "stdout",
     "output_type": "stream",
     "text": [
      "{}\n"
     ]
    }
   ],
   "source": [
    "student.clear()\n",
    "\n",
    "print(student)"
   ]
  },
  {
   "cell_type": "markdown",
   "metadata": {
    "id": "l8y7gZ80fpWd"
   },
   "source": [
    "## 6) 집합"
   ]
  },
  {
   "cell_type": "markdown",
   "metadata": {
    "id": "NsSD5UjdfpWd"
   },
   "source": [
    "### (1) 표현"
   ]
  },
  {
   "cell_type": "code",
   "execution_count": 101,
   "metadata": {},
   "outputs": [
    {
     "name": "stdout",
     "output_type": "stream",
     "text": [
      "{1, 2, 4, 5, 8, 11, 111, 22, 55, 26}\n",
      "<class 'set'>\n"
     ]
    }
   ],
   "source": [
    "\n",
    "myset = set([11,11,22,5,4,8,2,22,111,1,26,1,55,2,2])\n",
    "\n",
    "print(myset)\n",
    "print(type(myset))"
   ]
  },
  {
   "cell_type": "markdown",
   "metadata": {
    "id": "zJqGcyIbfpWd"
   },
   "source": [
    "예제. 이메일 중복 제거\n",
    "\n",
    "```\n",
    "emails = ['user1@example.com','user2@example.com','user1@example.com','user3@example.com','user2@example.com']\n",
    "```"
   ]
  },
  {
   "cell_type": "code",
   "execution_count": 102,
   "metadata": {
    "id": "lmsklubGfpWd"
   },
   "outputs": [
    {
     "name": "stdout",
     "output_type": "stream",
     "text": [
      "{'user1@example.com', 'user2@example.com', 'user3@example.com'}\n"
     ]
    }
   ],
   "source": [
    "emails = ['user1@example.com','user2@example.com','user1@example.com','user3@example.com','user2@example.com']\n",
    "print(set(emails))"
   ]
  },
  {
   "cell_type": "markdown",
   "metadata": {
    "id": "u3-4s3VbfpWe"
   },
   "source": [
    "### (2) 요소 추가/제거"
   ]
  },
  {
   "cell_type": "markdown",
   "metadata": {
    "id": "-IE7WahqfpWe"
   },
   "source": [
    "#### 추가"
   ]
  },
  {
   "cell_type": "code",
   "execution_count": 113,
   "metadata": {
    "id": "ijOunSBsfzf-"
   },
   "outputs": [
    {
     "name": "stdout",
     "output_type": "stream",
     "text": [
      "{1, 2, 3, 4, 5, 6}\n",
      "{1, 2, 3, 4, 5, 6}\n",
      "{1, 2, 3, 4, 5, 6, 7, 8}\n"
     ]
    }
   ],
   "source": [
    "myset = {1, 2, 3, 4, 5}\n",
    "\n",
    "# 6추가\n",
    "myset.add(6)\n",
    "print(myset)\n",
    "\n",
    "#5 중복 추가\n",
    "myset.add(5)\n",
    "print(myset)\n",
    "\n",
    "#여러 개 추가\n",
    "myset.update([4, 7, 8])\n",
    "print(myset)"
   ]
  },
  {
   "cell_type": "markdown",
   "metadata": {
    "id": "inOzgS8ofpWe"
   },
   "source": [
    "#### 제거"
   ]
  },
  {
   "cell_type": "code",
   "execution_count": 114,
   "metadata": {},
   "outputs": [
    {
     "name": "stdout",
     "output_type": "stream",
     "text": [
      "{1, 2, 3, 4, 6, 7, 8}\n",
      "{1, 2, 3, 4, 6, 7, 8}\n"
     ]
    }
   ],
   "source": [
    "#remove discard\n",
    "\n",
    "# 5 제거\n",
    "myset.remove(5)\n",
    "print(myset)\n",
    "\n",
    "# 9 제거\n",
    "myset.discard(9)\n",
    "print(myset)\n",
    "#remove로 없는 값 제거하면 오류가남\n"
   ]
  },
  {
   "cell_type": "markdown",
   "metadata": {
    "id": "N7sDYPgkfpWe"
   },
   "source": [
    "### (3) 연산"
   ]
  },
  {
   "cell_type": "markdown",
   "metadata": {},
   "source": [
    "<img src='https://www.dropbox.com/scl/fi/o9jjkizgbclwemi9wot4h/.png?rlkey=35o0zu24jc99ggiv9ex3pukqf&st=f69cko7q&dl=1' width=30%>"
   ]
  },
  {
   "cell_type": "code",
   "execution_count": 123,
   "metadata": {},
   "outputs": [
    {
     "name": "stdout",
     "output_type": "stream",
     "text": [
      "{'D', 'C', 'G'}\n",
      "{'D', 'C', 'G'}\n",
      "{'B', 'H'}\n",
      "{'B', 'H'}\n",
      "{'A', 'F'}\n",
      "{'A', 'F'}\n",
      "{'D', 'G', 'B', 'H', 'C', 'A', 'F'}\n",
      "{'D', 'G', 'B', 'H', 'C', 'A', 'F'}\n"
     ]
    }
   ],
   "source": [
    "set1 = {'A', 'F', 'G', 'C', 'D'}\n",
    "set2 = {'A', 'F', 'H', 'B'}\n",
    "\n",
    "#요가 - 헬스 차집합\n",
    "print(set1.difference(set2))\n",
    "print(set1 - set2)\n",
    "\n",
    "#헬스 - 요가 차집합\n",
    "print(set2.difference(set1))\n",
    "print(set2 - set1)\n",
    "\n",
    "## 교집합\n",
    "print(set1.intersection(set2))\n",
    "print(set1 & set2)\n",
    "\n",
    "## 합집합\n",
    "print(set1 | set2)\n",
    "print(set1.union(set2))"
   ]
  },
  {
   "cell_type": "markdown",
   "metadata": {
    "id": "WCXq_UaJfpWe"
   },
   "source": [
    "## 7) 불"
   ]
  },
  {
   "cell_type": "code",
   "execution_count": 125,
   "metadata": {},
   "outputs": [
    {
     "name": "stdout",
     "output_type": "stream",
     "text": [
      "스위치 켜짐\n"
     ]
    }
   ],
   "source": [
    "switch = True\n",
    "\n",
    "if switch :\n",
    "    print(\"스위치 켜짐\")\n",
    "else :\n",
    "    print(\"스위치 꺼짐\")"
   ]
  },
  {
   "cell_type": "code",
   "execution_count": 126,
   "metadata": {},
   "outputs": [
    {
     "name": "stdout",
     "output_type": "stream",
     "text": [
      "D는 출근하지 않았습니다.\n"
     ]
    }
   ],
   "source": [
    "data = [\"A\", \"C\", \"B\"]\n",
    "if \"D\" not in data :\n",
    "    rslt = \"D는 출근하지 않았습니다.\"\n",
    "else: rslt = \"D는 출근했습니다.\"\n",
    "\n",
    "print(rslt)\n"
   ]
  },
  {
   "cell_type": "code",
   "execution_count": null,
   "metadata": {},
   "outputs": [],
   "source": [
    "# * append / extend 차이 알기\n",
    "# 인스타그램 태그 수집기\n",
    "# post1 : #헬스, #단백질\n",
    "# post2 : #닭가슴살, #다이어트, #단백질\n",
    "# post3 : \"#요요\", \"#헬스\", \"#다이어트\"\n",
    "# post4 : \"#닭가슴살\", \"#단백질\"\n",
    "\n",
    "# 문제 1. 인스타그램 포스트별로 데이터를 수집하고 싶다\n",
    "# 문제 2. 모든 해시태그들을 tags라는 변수에 담고 싶다\n",
    "# 문제 3. 해시태그 카테고리가 몇 개인지 알고 싶다"
   ]
  },
  {
   "cell_type": "code",
   "execution_count": 7,
   "metadata": {},
   "outputs": [
    {
     "name": "stdout",
     "output_type": "stream",
     "text": [
      "5\n",
      "{'postId': [1, 2, 3, 4], 'tags': ['#헬스', '#단백질', '#닭가슴살', '#다이어트', '#단백질', '#요요', '#헬스', '#다이어트', '#닭가슴살', '#단백질']}\n"
     ]
    }
   ],
   "source": [
    "insta_info = {\"postId\" : [], \"tags\" : []}\n",
    "post_tags = [[\"#헬스\", \"#단백질\"], [\"#닭가슴살\", \"#다이어트\", \"#단백질\"], [\"#요요\", \"#헬스\", \"#다이어트\"], [\"#닭가슴살\", \"#단백질\"]]\n",
    "id = 1\n",
    "\n",
    "for tags in post_tags :\n",
    "    insta_info[\"postId\"].append(id)\n",
    "    id += 1\n",
    "    insta_info[\"tags\"].extend(tags)\n",
    "\n",
    "print(len(set(insta_info[\"tags\"])))\n",
    "print(insta_info)"
   ]
  },
  {
   "cell_type": "code",
   "execution_count": 8,
   "metadata": {},
   "outputs": [
    {
     "name": "stdout",
     "output_type": "stream",
     "text": [
      "{'postId': [1, 2, 3, 4], 'tags': [['#헬스', '#단백질'], ['#닭가슴살, #다이어트, #단백질'], ['#요요', '#헬스', '#다이어트'], ['#닭가슴살', '#단백질']]}\n"
     ]
    }
   ],
   "source": [
    "insta_info = {\"postId\" : [], \"tags\" : []}\n",
    "post_tags = [[\"#헬스\", \"#단백질\"], [\"#닭가슴살, #다이어트, #단백질\"], [\"#요요\", \"#헬스\", \"#다이어트\"], [\"#닭가슴살\", \"#단백질\"]]\n",
    "id = 1\n",
    "\n",
    "for tags in post_tags :\n",
    "    insta_info[\"postId\"].append(id)\n",
    "    id += 1\n",
    "    insta_info[\"tags\"].append(tags)\n",
    "\n",
    "print(insta_info)"
   ]
  },
  {
   "cell_type": "code",
   "execution_count": null,
   "metadata": {
    "vscode": {
     "languageId": "ini"
    }
   },
   "outputs": [],
   "source": []
  }
 ],
 "metadata": {
  "colab": {
   "provenance": []
  },
  "kernelspec": {
   "display_name": "work",
   "language": "python",
   "name": "python3"
  },
  "language_info": {
   "codemirror_mode": {
    "name": "ipython",
    "version": 3
   },
   "file_extension": ".py",
   "mimetype": "text/x-python",
   "name": "python",
   "nbconvert_exporter": "python",
   "pygments_lexer": "ipython3",
   "version": "3.10.18"
  }
 },
 "nbformat": 4,
 "nbformat_minor": 0
}
